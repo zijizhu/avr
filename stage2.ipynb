{
 "cells": [
  {
   "cell_type": "code",
   "execution_count": 1,
   "id": "initial_id",
   "metadata": {
    "collapsed": true,
    "ExecuteTime": {
     "end_time": "2023-10-02T09:48:40.447915600Z",
     "start_time": "2023-10-02T09:48:38.387752400Z"
    }
   },
   "outputs": [],
   "source": [
    "import os\n",
    "import json\n",
    "import torch\n",
    "import numpy as np\n",
    "import pandas as pd\n",
    "from pprint import pprint\n",
    "from torch.utils.data import Dataset\n",
    "from itertools import product\n",
    "import xml.etree.ElementTree as ET\n",
    "from pathlib import Path\n",
    "\n",
    "from utils import parse_rules, parse_panels, bbox_to_xyxy"
   ]
  },
  {
   "cell_type": "code",
   "execution_count": null,
   "outputs": [],
   "source": [],
   "metadata": {
    "collapsed": false
   },
   "id": "d56deede1af120c6"
  },
  {
   "cell_type": "code",
   "execution_count": null,
   "outputs": [],
   "source": [],
   "metadata": {
    "collapsed": false
   },
   "id": "1ca38a640962a9f"
  },
  {
   "cell_type": "code",
   "execution_count": null,
   "outputs": [],
   "source": [],
   "metadata": {
    "collapsed": false
   },
   "id": "83852a164aeae6d"
  },
  {
   "cell_type": "code",
   "execution_count": 43,
   "outputs": [
    {
     "name": "stdout",
     "output_type": "stream",
     "text": [
      "dataset/distribute_nine/RAVEN_911_train\n",
      "[{'component_id': '0', 'rules': [{'name': 'Distribute_Three', 'attr': 'Number'}, {'name': 'Distribute_Three', 'attr': 'Type'}, {'name': 'Progression', 'attr': 'Size'}, {'name': 'Constant', 'attr': 'Color'}]}]\n",
      "dataset/distribute_nine/RAVEN_590_train\n",
      "[{'component_id': '0', 'rules': [{'name': 'Progression', 'attr': 'Number'}, {'name': 'Progression', 'attr': 'Type'}, {'name': 'Constant', 'attr': 'Size'}, {'name': 'Arithmetic', 'attr': 'Color'}]}]\n",
      "dataset/distribute_nine/RAVEN_862_train\n",
      "[{'component_id': '0', 'rules': [{'name': 'Progression', 'attr': 'Position'}, {'name': 'Constant', 'attr': 'Type'}, {'name': 'Progression', 'attr': 'Size'}, {'name': 'Distribute_Three', 'attr': 'Color'}]}]\n",
      "dataset/distribute_nine/RAVEN_752_train\n",
      "[{'component_id': '0', 'rules': [{'name': 'Distribute_Three', 'attr': 'Position'}, {'name': 'Constant', 'attr': 'Type'}, {'name': 'Constant', 'attr': 'Size'}, {'name': 'Arithmetic', 'attr': 'Color'}]}]\n",
      "dataset/distribute_nine/RAVEN_745_train\n",
      "[{'component_id': '0', 'rules': [{'name': 'Distribute_Three', 'attr': 'Number'}, {'name': 'Progression', 'attr': 'Type'}, {'name': 'Constant', 'attr': 'Size'}, {'name': 'Arithmetic', 'attr': 'Color'}]}]\n",
      "dataset/distribute_nine/RAVEN_455_train\n",
      "[{'component_id': '0', 'rules': [{'name': 'Constant', 'attr': 'Number/Position'}, {'name': 'Constant', 'attr': 'Type'}, {'name': 'Constant', 'attr': 'Size'}, {'name': 'Arithmetic', 'attr': 'Color'}]}]\n",
      "dataset/distribute_nine/RAVEN_565_train\n",
      "[{'component_id': '0', 'rules': [{'name': 'Progression', 'attr': 'Position'}, {'name': 'Distribute_Three', 'attr': 'Type'}, {'name': 'Constant', 'attr': 'Size'}, {'name': 'Progression', 'attr': 'Color'}]}]\n",
      "dataset/distribute_nine/RAVEN_52_train\n",
      "[{'component_id': '0', 'rules': [{'name': 'Constant', 'attr': 'Number/Position'}, {'name': 'Progression', 'attr': 'Type'}, {'name': 'Constant', 'attr': 'Size'}, {'name': 'Arithmetic', 'attr': 'Color'}]}]\n",
      "dataset/distribute_nine/RAVEN_561_train\n",
      "[{'component_id': '0', 'rules': [{'name': 'Distribute_Three', 'attr': 'Number'}, {'name': 'Progression', 'attr': 'Type'}, {'name': 'Constant', 'attr': 'Size'}, {'name': 'Arithmetic', 'attr': 'Color'}]}]\n",
      "dataset/distribute_nine/RAVEN_674_train\n",
      "[{'component_id': '0', 'rules': [{'name': 'Progression', 'attr': 'Position'}, {'name': 'Distribute_Three', 'attr': 'Type'}, {'name': 'Progression', 'attr': 'Size'}, {'name': 'Constant', 'attr': 'Color'}]}]\n",
      "dataset/distribute_nine/RAVEN_630_train\n",
      "[{'component_id': '0', 'rules': [{'name': 'Arithmetic', 'attr': 'Number'}, {'name': 'Distribute_Three', 'attr': 'Type'}, {'name': 'Arithmetic', 'attr': 'Size'}, {'name': 'Progression', 'attr': 'Color'}]}]\n",
      "dataset/distribute_nine/RAVEN_14_train\n",
      "[{'component_id': '0', 'rules': [{'name': 'Progression', 'attr': 'Position'}, {'name': 'Progression', 'attr': 'Type'}, {'name': 'Arithmetic', 'attr': 'Size'}, {'name': 'Arithmetic', 'attr': 'Color'}]}]\n",
      "dataset/distribute_nine/RAVEN_350_train\n",
      "[{'component_id': '0', 'rules': [{'name': 'Constant', 'attr': 'Number/Position'}, {'name': 'Constant', 'attr': 'Type'}, {'name': 'Constant', 'attr': 'Size'}, {'name': 'Arithmetic', 'attr': 'Color'}]}]\n",
      "dataset/distribute_nine/RAVEN_204_train\n",
      "[{'component_id': '0', 'rules': [{'name': 'Arithmetic', 'attr': 'Number'}, {'name': 'Distribute_Three', 'attr': 'Type'}, {'name': 'Constant', 'attr': 'Size'}, {'name': 'Arithmetic', 'attr': 'Color'}]}]\n",
      "dataset/distribute_nine/RAVEN_851_train\n",
      "[{'component_id': '0', 'rules': [{'name': 'Progression', 'attr': 'Position'}, {'name': 'Constant', 'attr': 'Type'}, {'name': 'Distribute_Three', 'attr': 'Size'}, {'name': 'Distribute_Three', 'attr': 'Color'}]}]\n",
      "dataset/distribute_nine/RAVEN_973_train\n",
      "[{'component_id': '0', 'rules': [{'name': 'Arithmetic', 'attr': 'Number'}, {'name': 'Progression', 'attr': 'Type'}, {'name': 'Constant', 'attr': 'Size'}, {'name': 'Arithmetic', 'attr': 'Color'}]}]\n",
      "dataset/distribute_nine/RAVEN_262_train\n",
      "[{'component_id': '0', 'rules': [{'name': 'Arithmetic', 'attr': 'Number'}, {'name': 'Progression', 'attr': 'Type'}, {'name': 'Constant', 'attr': 'Size'}, {'name': 'Progression', 'attr': 'Color'}]}]\n",
      "dataset/distribute_nine/RAVEN_301_train\n",
      "[{'component_id': '0', 'rules': [{'name': 'Progression', 'attr': 'Number'}, {'name': 'Distribute_Three', 'attr': 'Type'}, {'name': 'Arithmetic', 'attr': 'Size'}, {'name': 'Constant', 'attr': 'Color'}]}]\n",
      "dataset/distribute_nine/RAVEN_363_train\n",
      "[{'component_id': '0', 'rules': [{'name': 'Arithmetic', 'attr': 'Number'}, {'name': 'Constant', 'attr': 'Type'}, {'name': 'Arithmetic', 'attr': 'Size'}, {'name': 'Progression', 'attr': 'Color'}]}]\n",
      "dataset/distribute_nine/RAVEN_110_train\n",
      "[{'component_id': '0', 'rules': [{'name': 'Constant', 'attr': 'Number/Position'}, {'name': 'Progression', 'attr': 'Type'}, {'name': 'Constant', 'attr': 'Size'}, {'name': 'Arithmetic', 'attr': 'Color'}]}]\n",
      "dataset/distribute_nine/RAVEN_402_train\n",
      "[{'component_id': '0', 'rules': [{'name': 'Constant', 'attr': 'Number/Position'}, {'name': 'Progression', 'attr': 'Type'}, {'name': 'Arithmetic', 'attr': 'Size'}, {'name': 'Progression', 'attr': 'Color'}]}]\n",
      "dataset/distribute_nine/RAVEN_670_train\n",
      "[{'component_id': '0', 'rules': [{'name': 'Progression', 'attr': 'Number'}, {'name': 'Constant', 'attr': 'Type'}, {'name': 'Distribute_Three', 'attr': 'Size'}, {'name': 'Progression', 'attr': 'Color'}]}]\n",
      "dataset/distribute_nine/RAVEN_552_train\n",
      "[{'component_id': '0', 'rules': [{'name': 'Distribute_Three', 'attr': 'Number'}, {'name': 'Progression', 'attr': 'Type'}, {'name': 'Progression', 'attr': 'Size'}, {'name': 'Progression', 'attr': 'Color'}]}]\n",
      "dataset/distribute_nine/RAVEN_985_train\n",
      "[{'component_id': '0', 'rules': [{'name': 'Arithmetic', 'attr': 'Position'}, {'name': 'Progression', 'attr': 'Type'}, {'name': 'Distribute_Three', 'attr': 'Size'}, {'name': 'Constant', 'attr': 'Color'}]}]\n",
      "dataset/distribute_nine/RAVEN_10_train\n",
      "[{'component_id': '0', 'rules': [{'name': 'Progression', 'attr': 'Number'}, {'name': 'Progression', 'attr': 'Type'}, {'name': 'Progression', 'attr': 'Size'}, {'name': 'Constant', 'attr': 'Color'}]}]\n",
      "dataset/distribute_nine/RAVEN_784_train\n",
      "[{'component_id': '0', 'rules': [{'name': 'Arithmetic', 'attr': 'Position'}, {'name': 'Constant', 'attr': 'Type'}, {'name': 'Progression', 'attr': 'Size'}, {'name': 'Arithmetic', 'attr': 'Color'}]}]\n",
      "dataset/distribute_nine/RAVEN_175_train\n",
      "[{'component_id': '0', 'rules': [{'name': 'Arithmetic', 'attr': 'Position'}, {'name': 'Distribute_Three', 'attr': 'Type'}, {'name': 'Constant', 'attr': 'Size'}, {'name': 'Arithmetic', 'attr': 'Color'}]}]\n",
      "dataset/distribute_nine/RAVEN_54_train\n",
      "[{'component_id': '0', 'rules': [{'name': 'Progression', 'attr': 'Position'}, {'name': 'Constant', 'attr': 'Type'}, {'name': 'Arithmetic', 'attr': 'Size'}, {'name': 'Arithmetic', 'attr': 'Color'}]}]\n",
      "dataset/distribute_nine/RAVEN_820_train\n",
      "[{'component_id': '0', 'rules': [{'name': 'Distribute_Three', 'attr': 'Position'}, {'name': 'Progression', 'attr': 'Type'}, {'name': 'Progression', 'attr': 'Size'}, {'name': 'Progression', 'attr': 'Color'}]}]\n",
      "dataset/distribute_nine/RAVEN_200_train\n",
      "[{'component_id': '0', 'rules': [{'name': 'Distribute_Three', 'attr': 'Position'}, {'name': 'Constant', 'attr': 'Type'}, {'name': 'Arithmetic', 'attr': 'Size'}, {'name': 'Distribute_Three', 'attr': 'Color'}]}]\n",
      "dataset/distribute_nine/RAVEN_295_train\n",
      "[{'component_id': '0', 'rules': [{'name': 'Distribute_Three', 'attr': 'Position'}, {'name': 'Progression', 'attr': 'Type'}, {'name': 'Arithmetic', 'attr': 'Size'}, {'name': 'Arithmetic', 'attr': 'Color'}]}]\n",
      "dataset/distribute_nine/RAVEN_764_train\n",
      "[{'component_id': '0', 'rules': [{'name': 'Distribute_Three', 'attr': 'Position'}, {'name': 'Constant', 'attr': 'Type'}, {'name': 'Distribute_Three', 'attr': 'Size'}, {'name': 'Progression', 'attr': 'Color'}]}]\n",
      "dataset/distribute_nine/RAVEN_411_train\n",
      "[{'component_id': '0', 'rules': [{'name': 'Progression', 'attr': 'Position'}, {'name': 'Constant', 'attr': 'Type'}, {'name': 'Progression', 'attr': 'Size'}, {'name': 'Arithmetic', 'attr': 'Color'}]}]\n",
      "dataset/distribute_nine/RAVEN_372_train\n",
      "[{'component_id': '0', 'rules': [{'name': 'Distribute_Three', 'attr': 'Position'}, {'name': 'Constant', 'attr': 'Type'}, {'name': 'Progression', 'attr': 'Size'}, {'name': 'Arithmetic', 'attr': 'Color'}]}]\n",
      "dataset/distribute_nine/RAVEN_461_train\n",
      "[{'component_id': '0', 'rules': [{'name': 'Progression', 'attr': 'Number'}, {'name': 'Distribute_Three', 'attr': 'Type'}, {'name': 'Arithmetic', 'attr': 'Size'}, {'name': 'Distribute_Three', 'attr': 'Color'}]}]\n",
      "dataset/distribute_nine/RAVEN_254_train\n",
      "[{'component_id': '0', 'rules': [{'name': 'Progression', 'attr': 'Number'}, {'name': 'Distribute_Three', 'attr': 'Type'}, {'name': 'Progression', 'attr': 'Size'}, {'name': 'Arithmetic', 'attr': 'Color'}]}]\n",
      "dataset/distribute_nine/RAVEN_451_train\n",
      "[{'component_id': '0', 'rules': [{'name': 'Constant', 'attr': 'Number/Position'}, {'name': 'Distribute_Three', 'attr': 'Type'}, {'name': 'Progression', 'attr': 'Size'}, {'name': 'Arithmetic', 'attr': 'Color'}]}]\n",
      "dataset/distribute_nine/RAVEN_423_train\n",
      "[{'component_id': '0', 'rules': [{'name': 'Arithmetic', 'attr': 'Position'}, {'name': 'Progression', 'attr': 'Type'}, {'name': 'Progression', 'attr': 'Size'}, {'name': 'Distribute_Three', 'attr': 'Color'}]}]\n",
      "dataset/distribute_nine/RAVEN_683_train\n",
      "[{'component_id': '0', 'rules': [{'name': 'Distribute_Three', 'attr': 'Position'}, {'name': 'Distribute_Three', 'attr': 'Type'}, {'name': 'Arithmetic', 'attr': 'Size'}, {'name': 'Distribute_Three', 'attr': 'Color'}]}]\n",
      "dataset/distribute_nine/RAVEN_505_train\n",
      "[{'component_id': '0', 'rules': [{'name': 'Distribute_Three', 'attr': 'Position'}, {'name': 'Constant', 'attr': 'Type'}, {'name': 'Progression', 'attr': 'Size'}, {'name': 'Arithmetic', 'attr': 'Color'}]}]\n",
      "dataset/distribute_nine/RAVEN_532_train\n",
      "[{'component_id': '0', 'rules': [{'name': 'Distribute_Three', 'attr': 'Number'}, {'name': 'Progression', 'attr': 'Type'}, {'name': 'Distribute_Three', 'attr': 'Size'}, {'name': 'Constant', 'attr': 'Color'}]}]\n",
      "dataset/distribute_nine/RAVEN_471_train\n",
      "[{'component_id': '0', 'rules': [{'name': 'Progression', 'attr': 'Position'}, {'name': 'Constant', 'attr': 'Type'}, {'name': 'Arithmetic', 'attr': 'Size'}, {'name': 'Distribute_Three', 'attr': 'Color'}]}]\n",
      "dataset/distribute_nine/RAVEN_563_train\n",
      "[{'component_id': '0', 'rules': [{'name': 'Progression', 'attr': 'Number'}, {'name': 'Constant', 'attr': 'Type'}, {'name': 'Progression', 'attr': 'Size'}, {'name': 'Distribute_Three', 'attr': 'Color'}]}]\n",
      "dataset/distribute_nine/RAVEN_915_train\n",
      "[{'component_id': '0', 'rules': [{'name': 'Arithmetic', 'attr': 'Number'}, {'name': 'Distribute_Three', 'attr': 'Type'}, {'name': 'Arithmetic', 'attr': 'Size'}, {'name': 'Distribute_Three', 'attr': 'Color'}]}]\n",
      "dataset/distribute_nine/RAVEN_880_train\n",
      "[{'component_id': '0', 'rules': [{'name': 'Arithmetic', 'attr': 'Number'}, {'name': 'Progression', 'attr': 'Type'}, {'name': 'Distribute_Three', 'attr': 'Size'}, {'name': 'Arithmetic', 'attr': 'Color'}]}]\n",
      "dataset/distribute_nine/RAVEN_523_train\n",
      "[{'component_id': '0', 'rules': [{'name': 'Constant', 'attr': 'Number/Position'}, {'name': 'Distribute_Three', 'attr': 'Type'}, {'name': 'Arithmetic', 'attr': 'Size'}, {'name': 'Distribute_Three', 'attr': 'Color'}]}]\n",
      "dataset/distribute_nine/RAVEN_770_train\n",
      "[{'component_id': '0', 'rules': [{'name': 'Arithmetic', 'attr': 'Number'}, {'name': 'Constant', 'attr': 'Type'}, {'name': 'Progression', 'attr': 'Size'}, {'name': 'Constant', 'attr': 'Color'}]}]\n",
      "dataset/distribute_nine/RAVEN_263_train\n",
      "[{'component_id': '0', 'rules': [{'name': 'Progression', 'attr': 'Position'}, {'name': 'Progression', 'attr': 'Type'}, {'name': 'Distribute_Three', 'attr': 'Size'}, {'name': 'Progression', 'attr': 'Color'}]}]\n",
      "dataset/distribute_nine/RAVEN_802_train\n",
      "[{'component_id': '0', 'rules': [{'name': 'Distribute_Three', 'attr': 'Position'}, {'name': 'Constant', 'attr': 'Type'}, {'name': 'Progression', 'attr': 'Size'}, {'name': 'Arithmetic', 'attr': 'Color'}]}]\n",
      "dataset/distribute_nine/RAVEN_412_train\n",
      "[{'component_id': '0', 'rules': [{'name': 'Constant', 'attr': 'Number/Position'}, {'name': 'Constant', 'attr': 'Type'}, {'name': 'Constant', 'attr': 'Size'}, {'name': 'Arithmetic', 'attr': 'Color'}]}]\n",
      "dataset/distribute_nine/RAVEN_15_train\n",
      "[{'component_id': '0', 'rules': [{'name': 'Arithmetic', 'attr': 'Position'}, {'name': 'Constant', 'attr': 'Type'}, {'name': 'Arithmetic', 'attr': 'Size'}, {'name': 'Constant', 'attr': 'Color'}]}]\n"
     ]
    }
   ],
   "source": [
    "def get_dataset(dataset_dir: str, split: str):\n",
    "    configurations = [\n",
    "        'distribute_nine',\n",
    "        'center_single',\n",
    "        'distribute_four',\n",
    "        'distribute_nine',\n",
    "        'in_center_single_out_center_single',\n",
    "        'in_distribute_four_out_center_single',\n",
    "        'left_center_single_right_center_single',\n",
    "        'up_center_single_down_center_single'\n",
    "    ]\n",
    "    id2type = ['none', 'triangle', 'square', 'pentagon', 'hexagon', 'circle']\n",
    "    id2size = [0.4, 0.5, 0.6, 0.7, 0.8, 0.9]\n",
    "    id2color = [255, 224, 196, 168, 140, 112, 84, 56, 28, 0]\n",
    "    id2slot = [(0.5, 0.5, 0.33, 0.33), (0.42, 0.42, 0.15, 0.15), (0.25, 0.75, 0.5, 0.5), (0.5, 0.75, 0.5, 0.5), (0.5, 0.5, 1, 1), (0.75, 0.5, 0.5, 0.5), (0.58, 0.58, 0.15, 0.15), (0.83, 0.83, 0.33, 0.33), (0.83, 0.16, 0.33, 0.33), (0.42, 0.58, 0.15, 0.15), (0.83, 0.5, 0.33, 0.33), (0.16, 0.5, 0.33, 0.33), (0.75, 0.25, 0.5, 0.5), (0.5, 0.83, 0.33, 0.33), (0.58, 0.42, 0.15, 0.15), (0.5, 0.25, 0.5, 0.5), (0.16, 0.83, 0.33, 0.33), (0.16, 0.16, 0.33, 0.33), (0.5, 0.16, 0.33, 0.33), (0.25, 0.5, 0.5, 0.5), (0.75, 0.75, 0.5, 0.5), (0.25, 0.25, 0.5, 0.5)]\n",
    "    slot2id = {slot: idx for idx, slot in enumerate(id2slot)}\n",
    "    \n",
    "    dataset_path = Path(dataset_dir)\n",
    "    all_file_stems = list(fn.stem for fn in (dataset_path / Path(configurations[0])).glob(f'*_{split}.npz'))\n",
    "    all_file_paths = [Path(dataset_path, config, base_fn) for config, base_fn in product(configurations, all_file_stems)]\n",
    "\n",
    "    full_data_dict = []\n",
    "    full_data_pd = []\n",
    "    i = 0\n",
    "    for file_path in all_file_paths:\n",
    "        xml = ET.parse(file_path.with_suffix('.xml'))\n",
    "        xml_root = xml.getroot()\n",
    "        panel_info_list = parse_panels(xml_root)\n",
    "        rules = parse_rules(xml_root)\n",
    "        \n",
    "        context_panels = panel_info_list[:6]\n",
    "        \n",
    "        print(file_path)\n",
    "        print(rules)\n",
    "        \n",
    "        if i == 50:\n",
    "            break\n",
    "        i += 1\n",
    "        \n",
    "        for panel_idx, panel in enumerate(context_panels):\n",
    "            for component in panel['components']:\n",
    "                component_idx = component['component']['id']\n",
    "                comp_slots_data = {}\n",
    "                for entity in component['entities']:\n",
    "                    entity_size = eval(entity['Size'])\n",
    "                    entity_type = eval(entity['Type'])\n",
    "                    entity_color = eval(entity['Color'])\n",
    "                    entity_slot_id = slot2id[tuple(eval(entity['bbox']))]\n",
    "                    comp_slots_data.update({entity_slot_id: {'size': entity_size, 'type': entity_type, 'color': entity_color}})\n",
    "\n",
    "                data = {'file': file_path, 'panel': panel_idx, 'component': component_idx}\n",
    "                full_data_dict.append({**data, 'slots': comp_slots_data})\n",
    "                data_pd = data.copy()\n",
    "\n",
    "                for slot_idx in range(0, len(id2slot)):\n",
    "                    if slot_idx in comp_slots_data:\n",
    "                        data_pd.update({f'slot{slot_idx}_color': comp_slots_data[slot_idx]['color'],\n",
    "                                        f'slot{slot_idx}_size': comp_slots_data[slot_idx]['size'],\n",
    "                                        f'slot{slot_idx}_type': comp_slots_data[slot_idx]['type']})\n",
    "                    else:\n",
    "                        data_pd.update({f'slot{slot_idx}_color': -1, f'slot{slot_idx}_size': -1, f'slot{slot_idx}_type': -1})\n",
    "                full_data_pd.append(data_pd)\n",
    "    return pd.DataFrame(full_data_pd)\n",
    "\n",
    "\n",
    "get_dataset('dataset', 'train')"
   ],
   "metadata": {
    "collapsed": false,
    "ExecuteTime": {
     "end_time": "2023-10-02T12:13:08.212384500Z",
     "start_time": "2023-10-02T12:13:08.169621300Z"
    }
   },
   "id": "e970aeadeaf1d933"
  },
  {
   "cell_type": "code",
   "execution_count": 44,
   "outputs": [
    {
     "name": "stdout",
     "output_type": "stream",
     "text": [
      "pos_num_rule 16\n",
      "type_rule 6\n",
      "size_rule 1\n",
      "color_rule 0\n"
     ]
    }
   ],
   "source": [
    "npz = np.load('dataset/distribute_nine/RAVEN_911_train_rule_comp0.npz')\n",
    "for fn in npz.files:\n",
    "    print(fn, npz[fn])"
   ],
   "metadata": {
    "collapsed": false,
    "ExecuteTime": {
     "end_time": "2023-10-02T12:16:35.243382200Z",
     "start_time": "2023-10-02T12:16:35.214344600Z"
    }
   },
   "id": "dbcf85dfe695aeae"
  },
  {
   "cell_type": "code",
   "execution_count": null,
   "outputs": [],
   "source": [],
   "metadata": {
    "collapsed": false
   },
   "id": "1abcaf41b6197c4a"
  },
  {
   "cell_type": "code",
   "execution_count": null,
   "outputs": [],
   "source": [],
   "metadata": {
    "collapsed": false
   },
   "id": "47e72b5f007af13c"
  },
  {
   "cell_type": "code",
   "execution_count": 13,
   "outputs": [],
   "source": [
    "all_slots = [(0.5, 0.5, 0.33, 0.33), (0.42, 0.42, 0.15, 0.15), (0.25, 0.75, 0.5, 0.5), (0.5, 0.75, 0.5, 0.5), (0.5, 0.5, 1, 1), (0.75, 0.5, 0.5, 0.5), (0.58, 0.58, 0.15, 0.15), (0.83, 0.83, 0.33, 0.33), (0.83, 0.16, 0.33, 0.33), (0.42, 0.58, 0.15, 0.15), (0.83, 0.5, 0.33, 0.33), (0.16, 0.5, 0.33, 0.33), (0.75, 0.25, 0.5, 0.5), (0.5, 0.83, 0.33, 0.33), (0.58, 0.42, 0.15, 0.15), (0.5, 0.25, 0.5, 0.5), (0.16, 0.83, 0.33, 0.33), (0.16, 0.16, 0.33, 0.33), (0.5, 0.16, 0.33, 0.33), (0.25, 0.5, 0.5, 0.5), (0.75, 0.75, 0.5, 0.5), (0.25, 0.25, 0.5, 0.5)]"
   ],
   "metadata": {
    "collapsed": false,
    "ExecuteTime": {
     "end_time": "2023-10-02T10:06:09.351306800Z",
     "start_time": "2023-10-02T10:06:09.333615500Z"
    }
   },
   "id": "d934f2942c104fa4"
  }
 ],
 "metadata": {
  "kernelspec": {
   "display_name": "Python 3",
   "language": "python",
   "name": "python3"
  },
  "language_info": {
   "codemirror_mode": {
    "name": "ipython",
    "version": 2
   },
   "file_extension": ".py",
   "mimetype": "text/x-python",
   "name": "python",
   "nbconvert_exporter": "python",
   "pygments_lexer": "ipython2",
   "version": "2.7.6"
  }
 },
 "nbformat": 4,
 "nbformat_minor": 5
}
