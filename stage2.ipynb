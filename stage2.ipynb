{
 "cells": [
  {
   "cell_type": "code",
   "execution_count": 177,
   "id": "initial_id",
   "metadata": {
    "collapsed": true,
    "ExecuteTime": {
     "end_time": "2023-10-04T10:24:54.076862Z",
     "start_time": "2023-10-04T10:24:54.071716Z"
    }
   },
   "outputs": [],
   "source": [
    "import os\n",
    "import json\n",
    "import torch\n",
    "import numpy as np\n",
    "import pandas as pd\n",
    "from pprint import pprint\n",
    "from torch.utils.data import Dataset\n",
    "from itertools import product\n",
    "import xml.etree.ElementTree as ET\n",
    "from pathlib import Path\n",
    "\n",
    "from utils import parse_rules, parse_panels, bbox_to_xyxy, plot_example\n",
    "from avr_dataset import get_stage2_dataset"
   ]
  },
  {
   "cell_type": "code",
   "execution_count": 178,
   "outputs": [],
   "source": [
    "panels_df, rules_df = get_stage2_dataset('dataset', 'train')"
   ],
   "metadata": {
    "collapsed": false,
    "ExecuteTime": {
     "end_time": "2023-10-04T10:24:59.046350Z",
     "start_time": "2023-10-04T10:24:54.934865Z"
    }
   },
   "id": "6014df4acb6fd26"
  },
  {
   "cell_type": "code",
   "execution_count": 179,
   "outputs": [
    {
     "data": {
      "text/plain": "                                                                  panel0_slot0_color  \\\nfile                                               component row                       \ndataset/center_single/RAVEN_0_train                0         0                    -1   \n                                                             1                    -1   \ndataset/center_single/RAVEN_100_train              0         0                    -1   \n                                                             1                    -1   \ndataset/center_single/RAVEN_101_train              0         0                    -1   \n...                                                                              ...   \ndataset/up_center_single_down_center_single/RAV... 1         1                    -1   \ndataset/up_center_single_down_center_single/RAV... 0         0                    -1   \n                                                             1                    -1   \n                                                   1         0                    -1   \n                                                             1                    -1   \n\n                                                                  panel0_slot0_size  \\\nfile                                               component row                      \ndataset/center_single/RAVEN_0_train                0         0                   -1   \n                                                             1                   -1   \ndataset/center_single/RAVEN_100_train              0         0                   -1   \n                                                             1                   -1   \ndataset/center_single/RAVEN_101_train              0         0                   -1   \n...                                                                             ...   \ndataset/up_center_single_down_center_single/RAV... 1         1                   -1   \ndataset/up_center_single_down_center_single/RAV... 0         0                   -1   \n                                                             1                   -1   \n                                                   1         0                   -1   \n                                                             1                   -1   \n\n                                                                  panel0_slot0_type  \\\nfile                                               component row                      \ndataset/center_single/RAVEN_0_train                0         0                   -1   \n                                                             1                   -1   \ndataset/center_single/RAVEN_100_train              0         0                   -1   \n                                                             1                   -1   \ndataset/center_single/RAVEN_101_train              0         0                   -1   \n...                                                                             ...   \ndataset/up_center_single_down_center_single/RAV... 1         1                   -1   \ndataset/up_center_single_down_center_single/RAV... 0         0                   -1   \n                                                             1                   -1   \n                                                   1         0                   -1   \n                                                             1                   -1   \n\n                                                                  panel0_slot1_color  \\\nfile                                               component row                       \ndataset/center_single/RAVEN_0_train                0         0                    -1   \n                                                             1                    -1   \ndataset/center_single/RAVEN_100_train              0         0                    -1   \n                                                             1                    -1   \ndataset/center_single/RAVEN_101_train              0         0                    -1   \n...                                                                              ...   \ndataset/up_center_single_down_center_single/RAV... 1         1                    -1   \ndataset/up_center_single_down_center_single/RAV... 0         0                    -1   \n                                                             1                    -1   \n                                                   1         0                    -1   \n                                                             1                    -1   \n\n                                                                  panel0_slot1_size  \\\nfile                                               component row                      \ndataset/center_single/RAVEN_0_train                0         0                   -1   \n                                                             1                   -1   \ndataset/center_single/RAVEN_100_train              0         0                   -1   \n                                                             1                   -1   \ndataset/center_single/RAVEN_101_train              0         0                   -1   \n...                                                                             ...   \ndataset/up_center_single_down_center_single/RAV... 1         1                   -1   \ndataset/up_center_single_down_center_single/RAV... 0         0                   -1   \n                                                             1                   -1   \n                                                   1         0                   -1   \n                                                             1                   -1   \n\n                                                                  panel0_slot1_type  \\\nfile                                               component row                      \ndataset/center_single/RAVEN_0_train                0         0                   -1   \n                                                             1                   -1   \ndataset/center_single/RAVEN_100_train              0         0                   -1   \n                                                             1                   -1   \ndataset/center_single/RAVEN_101_train              0         0                   -1   \n...                                                                             ...   \ndataset/up_center_single_down_center_single/RAV... 1         1                   -1   \ndataset/up_center_single_down_center_single/RAV... 0         0                   -1   \n                                                             1                   -1   \n                                                   1         0                   -1   \n                                                             1                   -1   \n\n                                                                  panel0_slot2_color  \\\nfile                                               component row                       \ndataset/center_single/RAVEN_0_train                0         0                    -1   \n                                                             1                    -1   \ndataset/center_single/RAVEN_100_train              0         0                    -1   \n                                                             1                    -1   \ndataset/center_single/RAVEN_101_train              0         0                    -1   \n...                                                                              ...   \ndataset/up_center_single_down_center_single/RAV... 1         1                    -1   \ndataset/up_center_single_down_center_single/RAV... 0         0                    -1   \n                                                             1                    -1   \n                                                   1         0                    -1   \n                                                             1                    -1   \n\n                                                                  panel0_slot2_size  \\\nfile                                               component row                      \ndataset/center_single/RAVEN_0_train                0         0                   -1   \n                                                             1                   -1   \ndataset/center_single/RAVEN_100_train              0         0                   -1   \n                                                             1                   -1   \ndataset/center_single/RAVEN_101_train              0         0                   -1   \n...                                                                             ...   \ndataset/up_center_single_down_center_single/RAV... 1         1                   -1   \ndataset/up_center_single_down_center_single/RAV... 0         0                   -1   \n                                                             1                   -1   \n                                                   1         0                   -1   \n                                                             1                   -1   \n\n                                                                  panel0_slot2_type  \\\nfile                                               component row                      \ndataset/center_single/RAVEN_0_train                0         0                   -1   \n                                                             1                   -1   \ndataset/center_single/RAVEN_100_train              0         0                   -1   \n                                                             1                   -1   \ndataset/center_single/RAVEN_101_train              0         0                   -1   \n...                                                                             ...   \ndataset/up_center_single_down_center_single/RAV... 1         1                   -1   \ndataset/up_center_single_down_center_single/RAV... 0         0                   -1   \n                                                             1                   -1   \n                                                   1         0                   -1   \n                                                             1                   -1   \n\n                                                                  panel0_slot3_color  \\\nfile                                               component row                       \ndataset/center_single/RAVEN_0_train                0         0                    -1   \n                                                             1                    -1   \ndataset/center_single/RAVEN_100_train              0         0                    -1   \n                                                             1                    -1   \ndataset/center_single/RAVEN_101_train              0         0                    -1   \n...                                                                              ...   \ndataset/up_center_single_down_center_single/RAV... 1         1                    -1   \ndataset/up_center_single_down_center_single/RAV... 0         0                    -1   \n                                                             1                    -1   \n                                                   1         0                    -1   \n                                                             1                    -1   \n\n                                                                  ...  \\\nfile                                               component row  ...   \ndataset/center_single/RAVEN_0_train                0         0    ...   \n                                                             1    ...   \ndataset/center_single/RAVEN_100_train              0         0    ...   \n                                                             1    ...   \ndataset/center_single/RAVEN_101_train              0         0    ...   \n...                                                               ...   \ndataset/up_center_single_down_center_single/RAV... 1         1    ...   \ndataset/up_center_single_down_center_single/RAV... 0         0    ...   \n                                                             1    ...   \n                                                   1         0    ...   \n                                                             1    ...   \n\n                                                                  panel2_slot20_size  \\\nfile                                               component row                       \ndataset/center_single/RAVEN_0_train                0         0                    -1   \n                                                             1                    -1   \ndataset/center_single/RAVEN_100_train              0         0                    -1   \n                                                             1                    -1   \ndataset/center_single/RAVEN_101_train              0         0                    -1   \n...                                                                              ...   \ndataset/up_center_single_down_center_single/RAV... 1         1                    -1   \ndataset/up_center_single_down_center_single/RAV... 0         0                    -1   \n                                                             1                    -1   \n                                                   1         0                    -1   \n                                                             1                    -1   \n\n                                                                  panel2_slot20_type  \\\nfile                                               component row                       \ndataset/center_single/RAVEN_0_train                0         0                    -1   \n                                                             1                    -1   \ndataset/center_single/RAVEN_100_train              0         0                    -1   \n                                                             1                    -1   \ndataset/center_single/RAVEN_101_train              0         0                    -1   \n...                                                                              ...   \ndataset/up_center_single_down_center_single/RAV... 1         1                    -1   \ndataset/up_center_single_down_center_single/RAV... 0         0                    -1   \n                                                             1                    -1   \n                                                   1         0                    -1   \n                                                             1                    -1   \n\n                                                                  panel2_slot21_color  \\\nfile                                               component row                        \ndataset/center_single/RAVEN_0_train                0         0                     -1   \n                                                             1                     -1   \ndataset/center_single/RAVEN_100_train              0         0                     -1   \n                                                             1                     -1   \ndataset/center_single/RAVEN_101_train              0         0                     -1   \n...                                                                               ...   \ndataset/up_center_single_down_center_single/RAV... 1         1                     -1   \ndataset/up_center_single_down_center_single/RAV... 0         0                     -1   \n                                                             1                     -1   \n                                                   1         0                     -1   \n                                                             1                     -1   \n\n                                                                  panel2_slot21_size  \\\nfile                                               component row                       \ndataset/center_single/RAVEN_0_train                0         0                    -1   \n                                                             1                    -1   \ndataset/center_single/RAVEN_100_train              0         0                    -1   \n                                                             1                    -1   \ndataset/center_single/RAVEN_101_train              0         0                    -1   \n...                                                                              ...   \ndataset/up_center_single_down_center_single/RAV... 1         1                    -1   \ndataset/up_center_single_down_center_single/RAV... 0         0                    -1   \n                                                             1                    -1   \n                                                   1         0                    -1   \n                                                             1                    -1   \n\n                                                                  panel2_slot21_type  \\\nfile                                               component row                       \ndataset/center_single/RAVEN_0_train                0         0                    -1   \n                                                             1                    -1   \ndataset/center_single/RAVEN_100_train              0         0                    -1   \n                                                             1                    -1   \ndataset/center_single/RAVEN_101_train              0         0                    -1   \n...                                                                              ...   \ndataset/up_center_single_down_center_single/RAV... 1         1                    -1   \ndataset/up_center_single_down_center_single/RAV... 0         0                    -1   \n                                                             1                    -1   \n                                                   1         0                    -1   \n                                                             1                    -1   \n\n                                                                    number  \\\nfile                                               component row             \ndataset/center_single/RAVEN_0_train                0         0    Constant   \n                                                             1    Constant   \ndataset/center_single/RAVEN_100_train              0         0    Constant   \n                                                             1    Constant   \ndataset/center_single/RAVEN_101_train              0         0    Constant   \n...                                                                    ...   \ndataset/up_center_single_down_center_single/RAV... 1         1    Constant   \ndataset/up_center_single_down_center_single/RAV... 0         0    Constant   \n                                                             1    Constant   \n                                                   1         0    Constant   \n                                                             1    Constant   \n\n                                                                  position  \\\nfile                                               component row             \ndataset/center_single/RAVEN_0_train                0         0    Constant   \n                                                             1    Constant   \ndataset/center_single/RAVEN_100_train              0         0    Constant   \n                                                             1    Constant   \ndataset/center_single/RAVEN_101_train              0         0    Constant   \n...                                                                    ...   \ndataset/up_center_single_down_center_single/RAV... 1         1    Constant   \ndataset/up_center_single_down_center_single/RAV... 0         0    Constant   \n                                                             1    Constant   \n                                                   1         0    Constant   \n                                                             1    Constant   \n\n                                                                              type  \\\nfile                                               component row                     \ndataset/center_single/RAVEN_0_train                0         0            Constant   \n                                                             1            Constant   \ndataset/center_single/RAVEN_100_train              0         0            Constant   \n                                                             1            Constant   \ndataset/center_single/RAVEN_101_train              0         0         Progression   \n...                                                                            ...   \ndataset/up_center_single_down_center_single/RAV... 1         1    Distribute_Three   \ndataset/up_center_single_down_center_single/RAV... 0         0            Constant   \n                                                             1            Constant   \n                                                   1         0            Constant   \n                                                             1            Constant   \n\n                                                                              size  \\\nfile                                               component row                     \ndataset/center_single/RAVEN_0_train                0         0         Progression   \n                                                             1         Progression   \ndataset/center_single/RAVEN_100_train              0         0         Progression   \n                                                             1         Progression   \ndataset/center_single/RAVEN_101_train              0         0          Arithmetic   \n...                                                                            ...   \ndataset/up_center_single_down_center_single/RAV... 1         1          Arithmetic   \ndataset/up_center_single_down_center_single/RAV... 0         0    Distribute_Three   \n                                                             1    Distribute_Three   \n                                                   1         0    Distribute_Three   \n                                                             1    Distribute_Three   \n\n                                                                             color  \nfile                                               component row                    \ndataset/center_single/RAVEN_0_train                0         0         Progression  \n                                                             1         Progression  \ndataset/center_single/RAVEN_100_train              0         0         Progression  \n                                                             1         Progression  \ndataset/center_single/RAVEN_101_train              0         0    Distribute_Three  \n...                                                                            ...  \ndataset/up_center_single_down_center_single/RAV... 1         1    Distribute_Three  \ndataset/up_center_single_down_center_single/RAV... 0         0          Arithmetic  \n                                                             1          Arithmetic  \n                                                   1         0    Distribute_Three  \n                                                             1    Distribute_Three  \n\n[13200 rows x 203 columns]",
      "text/html": "<div>\n<style scoped>\n    .dataframe tbody tr th:only-of-type {\n        vertical-align: middle;\n    }\n\n    .dataframe tbody tr th {\n        vertical-align: top;\n    }\n\n    .dataframe thead th {\n        text-align: right;\n    }\n</style>\n<table border=\"1\" class=\"dataframe\">\n  <thead>\n    <tr style=\"text-align: right;\">\n      <th></th>\n      <th></th>\n      <th></th>\n      <th>panel0_slot0_color</th>\n      <th>panel0_slot0_size</th>\n      <th>panel0_slot0_type</th>\n      <th>panel0_slot1_color</th>\n      <th>panel0_slot1_size</th>\n      <th>panel0_slot1_type</th>\n      <th>panel0_slot2_color</th>\n      <th>panel0_slot2_size</th>\n      <th>panel0_slot2_type</th>\n      <th>panel0_slot3_color</th>\n      <th>...</th>\n      <th>panel2_slot20_size</th>\n      <th>panel2_slot20_type</th>\n      <th>panel2_slot21_color</th>\n      <th>panel2_slot21_size</th>\n      <th>panel2_slot21_type</th>\n      <th>number</th>\n      <th>position</th>\n      <th>type</th>\n      <th>size</th>\n      <th>color</th>\n    </tr>\n    <tr>\n      <th>file</th>\n      <th>component</th>\n      <th>row</th>\n      <th></th>\n      <th></th>\n      <th></th>\n      <th></th>\n      <th></th>\n      <th></th>\n      <th></th>\n      <th></th>\n      <th></th>\n      <th></th>\n      <th></th>\n      <th></th>\n      <th></th>\n      <th></th>\n      <th></th>\n      <th></th>\n      <th></th>\n      <th></th>\n      <th></th>\n      <th></th>\n      <th></th>\n    </tr>\n  </thead>\n  <tbody>\n    <tr>\n      <th rowspan=\"2\" valign=\"top\">dataset/center_single/RAVEN_0_train</th>\n      <th rowspan=\"2\" valign=\"top\">0</th>\n      <th>0</th>\n      <td>-1</td>\n      <td>-1</td>\n      <td>-1</td>\n      <td>-1</td>\n      <td>-1</td>\n      <td>-1</td>\n      <td>-1</td>\n      <td>-1</td>\n      <td>-1</td>\n      <td>-1</td>\n      <td>...</td>\n      <td>-1</td>\n      <td>-1</td>\n      <td>-1</td>\n      <td>-1</td>\n      <td>-1</td>\n      <td>Constant</td>\n      <td>Constant</td>\n      <td>Constant</td>\n      <td>Progression</td>\n      <td>Progression</td>\n    </tr>\n    <tr>\n      <th>1</th>\n      <td>-1</td>\n      <td>-1</td>\n      <td>-1</td>\n      <td>-1</td>\n      <td>-1</td>\n      <td>-1</td>\n      <td>-1</td>\n      <td>-1</td>\n      <td>-1</td>\n      <td>-1</td>\n      <td>...</td>\n      <td>-1</td>\n      <td>-1</td>\n      <td>-1</td>\n      <td>-1</td>\n      <td>-1</td>\n      <td>Constant</td>\n      <td>Constant</td>\n      <td>Constant</td>\n      <td>Progression</td>\n      <td>Progression</td>\n    </tr>\n    <tr>\n      <th rowspan=\"2\" valign=\"top\">dataset/center_single/RAVEN_100_train</th>\n      <th rowspan=\"2\" valign=\"top\">0</th>\n      <th>0</th>\n      <td>-1</td>\n      <td>-1</td>\n      <td>-1</td>\n      <td>-1</td>\n      <td>-1</td>\n      <td>-1</td>\n      <td>-1</td>\n      <td>-1</td>\n      <td>-1</td>\n      <td>-1</td>\n      <td>...</td>\n      <td>-1</td>\n      <td>-1</td>\n      <td>-1</td>\n      <td>-1</td>\n      <td>-1</td>\n      <td>Constant</td>\n      <td>Constant</td>\n      <td>Constant</td>\n      <td>Progression</td>\n      <td>Progression</td>\n    </tr>\n    <tr>\n      <th>1</th>\n      <td>-1</td>\n      <td>-1</td>\n      <td>-1</td>\n      <td>-1</td>\n      <td>-1</td>\n      <td>-1</td>\n      <td>-1</td>\n      <td>-1</td>\n      <td>-1</td>\n      <td>-1</td>\n      <td>...</td>\n      <td>-1</td>\n      <td>-1</td>\n      <td>-1</td>\n      <td>-1</td>\n      <td>-1</td>\n      <td>Constant</td>\n      <td>Constant</td>\n      <td>Constant</td>\n      <td>Progression</td>\n      <td>Progression</td>\n    </tr>\n    <tr>\n      <th>dataset/center_single/RAVEN_101_train</th>\n      <th>0</th>\n      <th>0</th>\n      <td>-1</td>\n      <td>-1</td>\n      <td>-1</td>\n      <td>-1</td>\n      <td>-1</td>\n      <td>-1</td>\n      <td>-1</td>\n      <td>-1</td>\n      <td>-1</td>\n      <td>-1</td>\n      <td>...</td>\n      <td>-1</td>\n      <td>-1</td>\n      <td>-1</td>\n      <td>-1</td>\n      <td>-1</td>\n      <td>Constant</td>\n      <td>Constant</td>\n      <td>Progression</td>\n      <td>Arithmetic</td>\n      <td>Distribute_Three</td>\n    </tr>\n    <tr>\n      <th>...</th>\n      <th>...</th>\n      <th>...</th>\n      <td>...</td>\n      <td>...</td>\n      <td>...</td>\n      <td>...</td>\n      <td>...</td>\n      <td>...</td>\n      <td>...</td>\n      <td>...</td>\n      <td>...</td>\n      <td>...</td>\n      <td>...</td>\n      <td>...</td>\n      <td>...</td>\n      <td>...</td>\n      <td>...</td>\n      <td>...</td>\n      <td>...</td>\n      <td>...</td>\n      <td>...</td>\n      <td>...</td>\n      <td>...</td>\n    </tr>\n    <tr>\n      <th>dataset/up_center_single_down_center_single/RAVEN_994_train</th>\n      <th>1</th>\n      <th>1</th>\n      <td>-1</td>\n      <td>-1</td>\n      <td>-1</td>\n      <td>-1</td>\n      <td>-1</td>\n      <td>-1</td>\n      <td>-1</td>\n      <td>-1</td>\n      <td>-1</td>\n      <td>-1</td>\n      <td>...</td>\n      <td>-1</td>\n      <td>-1</td>\n      <td>-1</td>\n      <td>-1</td>\n      <td>-1</td>\n      <td>Constant</td>\n      <td>Constant</td>\n      <td>Distribute_Three</td>\n      <td>Arithmetic</td>\n      <td>Distribute_Three</td>\n    </tr>\n    <tr>\n      <th rowspan=\"4\" valign=\"top\">dataset/up_center_single_down_center_single/RAVEN_995_train</th>\n      <th rowspan=\"2\" valign=\"top\">0</th>\n      <th>0</th>\n      <td>-1</td>\n      <td>-1</td>\n      <td>-1</td>\n      <td>-1</td>\n      <td>-1</td>\n      <td>-1</td>\n      <td>-1</td>\n      <td>-1</td>\n      <td>-1</td>\n      <td>-1</td>\n      <td>...</td>\n      <td>-1</td>\n      <td>-1</td>\n      <td>-1</td>\n      <td>-1</td>\n      <td>-1</td>\n      <td>Constant</td>\n      <td>Constant</td>\n      <td>Constant</td>\n      <td>Distribute_Three</td>\n      <td>Arithmetic</td>\n    </tr>\n    <tr>\n      <th>1</th>\n      <td>-1</td>\n      <td>-1</td>\n      <td>-1</td>\n      <td>-1</td>\n      <td>-1</td>\n      <td>-1</td>\n      <td>-1</td>\n      <td>-1</td>\n      <td>-1</td>\n      <td>-1</td>\n      <td>...</td>\n      <td>-1</td>\n      <td>-1</td>\n      <td>-1</td>\n      <td>-1</td>\n      <td>-1</td>\n      <td>Constant</td>\n      <td>Constant</td>\n      <td>Constant</td>\n      <td>Distribute_Three</td>\n      <td>Arithmetic</td>\n    </tr>\n    <tr>\n      <th rowspan=\"2\" valign=\"top\">1</th>\n      <th>0</th>\n      <td>-1</td>\n      <td>-1</td>\n      <td>-1</td>\n      <td>-1</td>\n      <td>-1</td>\n      <td>-1</td>\n      <td>-1</td>\n      <td>-1</td>\n      <td>-1</td>\n      <td>-1</td>\n      <td>...</td>\n      <td>-1</td>\n      <td>-1</td>\n      <td>-1</td>\n      <td>-1</td>\n      <td>-1</td>\n      <td>Constant</td>\n      <td>Constant</td>\n      <td>Constant</td>\n      <td>Distribute_Three</td>\n      <td>Distribute_Three</td>\n    </tr>\n    <tr>\n      <th>1</th>\n      <td>-1</td>\n      <td>-1</td>\n      <td>-1</td>\n      <td>-1</td>\n      <td>-1</td>\n      <td>-1</td>\n      <td>-1</td>\n      <td>-1</td>\n      <td>-1</td>\n      <td>-1</td>\n      <td>...</td>\n      <td>-1</td>\n      <td>-1</td>\n      <td>-1</td>\n      <td>-1</td>\n      <td>-1</td>\n      <td>Constant</td>\n      <td>Constant</td>\n      <td>Constant</td>\n      <td>Distribute_Three</td>\n      <td>Distribute_Three</td>\n    </tr>\n  </tbody>\n</table>\n<p>13200 rows × 203 columns</p>\n</div>"
     },
     "execution_count": 179,
     "metadata": {},
     "output_type": "execute_result"
    }
   ],
   "source": [
    "merge_row = True\n",
    "panels_df_copy = panels_df.copy()\n",
    "\n",
    "if merge_row:\n",
    "    panels_df_copy['row'] = np.where(panels_df_copy['panel'] < 3, 0, 1)\n",
    "    panels_df_copy['panel'] = np.where(panels_df_copy['panel'] < 3, panels_df_copy['panel'], panels_df_copy['panel'] - 3)\n",
    "    reshaped_indices = ['file', 'component', 'row', 'panel']\n",
    "else:\n",
    "    reshaped_indices = ['file', 'component', 'panel']\n",
    "\n",
    "reshaped_panels_df = panels_df_copy.set_index(reshaped_indices).unstack(level=-1)\n",
    "reshaped_panels_df.columns.names = ['slot_attr', 'panel']\n",
    "reshaped_panels_df.columns = reshaped_panels_df.columns.swaplevel(0, 1)\n",
    "reshaped_panels_df = reshaped_panels_df.sort_index(axis=1, level=0)\n",
    "\n",
    "index_tuples = []\n",
    "for panel_idx, slot_idx, attr in list(product(range(0, 3) if merge_row else range(0, 6),\n",
    "                                              range(0, 22),\n",
    "                                              ['color', 'size', 'type'])):\n",
    "    index_tuples.append((panel_idx, f'slot{slot_idx}_{attr}'))\n",
    "# index_tuples = list(product(range(0, 6), range(0, 22), ['color', 'size', 'type']))\n",
    "multi_index = pd.MultiIndex.from_tuples(index_tuples, names=['panel', 'slot_attr'])\n",
    "reshaped_panels_df = pd.DataFrame(reshaped_panels_df, columns=multi_index)\n",
    "\n",
    "reshaped_panels_df.columns = reshaped_panels_df.columns.map(lambda x: 'panel' + '_'.join(list(map(str, x))))\n",
    "\n",
    "rules_df = rules_df.rename(columns={'file_path': 'file'})\n",
    "rules_df = rules_df.set_index(['file', 'component'])\n",
    "\n",
    "final_df = reshaped_panels_df.join(rules_df)\n",
    "\n",
    "final_df"
   ],
   "metadata": {
    "collapsed": false,
    "ExecuteTime": {
     "end_time": "2023-10-04T10:25:03.267595Z",
     "start_time": "2023-10-04T10:25:03.094787Z"
    }
   },
   "id": "39a95bdb668480db"
  },
  {
   "cell_type": "code",
   "execution_count": 201,
   "outputs": [],
   "source": [
    "from sklearn.preprocessing import OneHotEncoder\n",
    "from sklearn.model_selection import train_test_split\n",
    "label_columns = ['number', 'position', 'type', 'size', 'color']\n",
    "\n",
    "X, Y = final_df[final_df.columns[:-5]], final_df[final_df.columns[-5:]]\n",
    "X_train, X_test, y_train, y_test = train_test_split(X, Y, test_size=0.33, random_state=42)\n",
    "\n",
    "enc = OneHotEncoder(handle_unknown='ignore')\n",
    "enc.fit(X)\n",
    "X_train_encoded = enc.transform(X_train).toarray()\n",
    "X_test_encoded = enc.transform(X_test).toarray()"
   ],
   "metadata": {
    "collapsed": false,
    "ExecuteTime": {
     "end_time": "2023-10-04T10:53:58.979435Z",
     "start_time": "2023-10-04T10:53:58.822527Z"
    }
   },
   "id": "196c0f51e7a93fca"
  },
  {
   "cell_type": "code",
   "execution_count": null,
   "outputs": [],
   "source": [],
   "metadata": {
    "collapsed": false
   },
   "id": "28195473fb0c991e"
  },
  {
   "cell_type": "code",
   "execution_count": 253,
   "outputs": [
    {
     "data": {
      "text/plain": "0.4866850321395776"
     },
     "execution_count": 253,
     "metadata": {},
     "output_type": "execute_result"
    }
   ],
   "source": [
    "from sklearn import svm\n",
    "\n",
    "clf = svm.SVC()\n",
    "clf.fit(X_train_encoded, y_train['type'].values)\n",
    "clf.score(X_test_encoded, y_test['type'].values)"
   ],
   "metadata": {
    "collapsed": false,
    "ExecuteTime": {
     "end_time": "2023-10-04T11:46:14.432584Z",
     "start_time": "2023-10-04T11:44:10.404848Z"
    }
   },
   "id": "92857b8ce59d78fc"
  },
  {
   "cell_type": "code",
   "execution_count": 249,
   "outputs": [],
   "source": [
    "label_map = {'Constant': 0, 'Distribute_Three': 1, 'Progression': 2, 'Arithmetic': 3}"
   ],
   "metadata": {
    "collapsed": false,
    "ExecuteTime": {
     "end_time": "2023-10-04T11:42:52.415442Z",
     "start_time": "2023-10-04T11:42:52.408155Z"
    }
   },
   "id": "dac0a6fa78800b53"
  },
  {
   "cell_type": "code",
   "execution_count": 243,
   "outputs": [
    {
     "data": {
      "text/plain": "0.8523875114784206"
     },
     "execution_count": 243,
     "metadata": {},
     "output_type": "execute_result"
    }
   ],
   "source": [
    "from xgboost import XGBClassifier\n",
    "\n",
    "bst_type = XGBClassifier(n_estimators=20, max_depth=50, learning_rate=1, objective='multi:softprob')\n",
    "bst_type.fit(X_train_encoded, y_train['type'].map(label_map).values)\n",
    "bst_type.score(X_test_encoded, y_test['type'].map(label_map).values)"
   ],
   "metadata": {
    "collapsed": false,
    "ExecuteTime": {
     "end_time": "2023-10-04T11:41:12.046048Z",
     "start_time": "2023-10-04T11:41:11.021943Z"
    }
   },
   "id": "28aa5085f940d994"
  },
  {
   "cell_type": "code",
   "execution_count": 251,
   "outputs": [
    {
     "data": {
      "text/plain": "0.6779155188246098"
     },
     "execution_count": 251,
     "metadata": {},
     "output_type": "execute_result"
    }
   ],
   "source": [
    "bst_color = XGBClassifier(n_estimators=20, max_depth=100, learning_rate=0.1, objective='multi:softprob')\n",
    "bst_color.fit(X_train_encoded, y_train['color'].map(label_map).values)\n",
    "bst_color.score(X_test_encoded, y_test['color'].map(label_map).values)"
   ],
   "metadata": {
    "collapsed": false,
    "ExecuteTime": {
     "end_time": "2023-10-04T11:43:12.792950Z",
     "start_time": "2023-10-04T11:43:10.475419Z"
    }
   },
   "id": "ad5eb0093adfcd4f"
  },
  {
   "cell_type": "code",
   "execution_count": 252,
   "outputs": [
    {
     "data": {
      "text/plain": "0.73989898989899"
     },
     "execution_count": 252,
     "metadata": {},
     "output_type": "execute_result"
    }
   ],
   "source": [
    "bst_size = XGBClassifier(n_estimators=20, max_depth=100, learning_rate=0.1, objective='multi:softprob')\n",
    "bst_size.fit(X_train_encoded, y_train['size'].map(label_map).values)\n",
    "bst_size.score(X_test_encoded, y_test['size'].map(label_map).values)"
   ],
   "metadata": {
    "collapsed": false,
    "ExecuteTime": {
     "end_time": "2023-10-04T11:43:52.119511Z",
     "start_time": "2023-10-04T11:43:49.829784Z"
    }
   },
   "id": "499b23ab5f7dcb41"
  },
  {
   "cell_type": "code",
   "execution_count": 255,
   "outputs": [
    {
     "data": {
      "text/plain": "0.8675390266299358"
     },
     "execution_count": 255,
     "metadata": {},
     "output_type": "execute_result"
    }
   ],
   "source": [
    "bst_number = XGBClassifier(n_estimators=20, max_depth=100, learning_rate=0.1, objective='multi:softprob')\n",
    "bst_number.fit(X_train_encoded, y_train['number'].map(label_map).values)\n",
    "bst_number.score(X_test_encoded, y_test['number'].map(label_map).values)"
   ],
   "metadata": {
    "collapsed": false,
    "ExecuteTime": {
     "end_time": "2023-10-04T11:47:15.699031Z",
     "start_time": "2023-10-04T11:47:14.497662Z"
    }
   },
   "id": "78bcb87cd29dc7f0"
  },
  {
   "cell_type": "code",
   "execution_count": 256,
   "outputs": [
    {
     "data": {
      "text/plain": "0.8675390266299358"
     },
     "execution_count": 256,
     "metadata": {},
     "output_type": "execute_result"
    }
   ],
   "source": [
    "bst_position = XGBClassifier(n_estimators=20, max_depth=100, learning_rate=0.1, objective='multi:softprob')\n",
    "bst_position.fit(X_train_encoded, y_train['position'].map(label_map).values)\n",
    "bst_position.score(X_test_encoded, y_test['position'].map(label_map).values)"
   ],
   "metadata": {
    "collapsed": false,
    "ExecuteTime": {
     "end_time": "2023-10-04T11:47:41.049018Z",
     "start_time": "2023-10-04T11:47:39.960715Z"
    }
   },
   "id": "891ef6b084aaa28c"
  },
  {
   "cell_type": "code",
   "execution_count": null,
   "outputs": [],
   "source": [],
   "metadata": {
    "collapsed": false
   },
   "id": "273d80c932d1f282"
  }
 ],
 "metadata": {
  "kernelspec": {
   "display_name": "Python 3",
   "language": "python",
   "name": "python3"
  },
  "language_info": {
   "codemirror_mode": {
    "name": "ipython",
    "version": 2
   },
   "file_extension": ".py",
   "mimetype": "text/x-python",
   "name": "python",
   "nbconvert_exporter": "python",
   "pygments_lexer": "ipython2",
   "version": "2.7.6"
  }
 },
 "nbformat": 4,
 "nbformat_minor": 5
}
