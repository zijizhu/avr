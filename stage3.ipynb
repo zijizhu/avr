{
 "cells": [
  {
   "cell_type": "code",
   "execution_count": 2,
   "id": "initial_id",
   "metadata": {
    "collapsed": true,
    "ExecuteTime": {
     "end_time": "2023-10-18T10:09:04.003349Z",
     "start_time": "2023-10-18T10:09:02.745205Z"
    }
   },
   "outputs": [],
   "source": [
    "import json\n",
    "import pandas as pd\n",
    "import xml.etree.ElementTree as ET\n",
    "from itertools import product\n",
    "from pathlib import Path\n",
    "\n",
    "import numpy as np\n",
    "import torch\n",
    "from torch.utils.data import Dataset\n",
    "\n",
    "from utils import parse_panels, bbox_to_xyxy, parse_rules\n",
    "from avr_dataset import configurations, id2type, id2size, slot2id, id2slot, panel_dict_to_df, extract_stage2_ground_truth"
   ]
  },
  {
   "cell_type": "code",
   "execution_count": 76,
   "outputs": [],
   "source": [
    "def extract_stage3_ground_truth(dataset_dir: str, split: str):\n",
    "    dataset_path = Path(dataset_dir)\n",
    "    all_file_stems = list(fn.stem for fn in (dataset_path / Path(configurations[0])).glob(f'*_{split}.npz'))\n",
    "    all_file_paths = [Path(dataset_path, config, base_fn) for config, base_fn in\n",
    "                      product(configurations, all_file_stems)]\n",
    "\n",
    "    all_panel_df = []\n",
    "    full_rule_data = []\n",
    "\n",
    "    for file_path in all_file_paths:\n",
    "        xml = ET.parse(file_path.with_suffix('.xml'))\n",
    "        xml_root = xml.getroot()\n",
    "        panel_info_list = parse_panels(xml_root)\n",
    "        component_rules = parse_rules(xml_root)\n",
    "        context_panels = panel_info_list[6:]\n",
    "\n",
    "        # Get rules (labels)\n",
    "        for component in component_rules:\n",
    "            cid = int(component['component_id'])\n",
    "            rule_data = {'file_path': str(file_path)}\n",
    "            for rule in component['rules']:\n",
    "                if (rule['attr'] == 'Number/Position') or (rule['attr'] == 'Number') or (rule['attr'] == 'Position'):\n",
    "                    rule_data[f'component{cid}_number'] = rule['name']\n",
    "                    rule_data[f'component{cid}_position'] = rule['name']\n",
    "                elif rule['attr'] == 'Type':\n",
    "                    rule_data[f'component{cid}_type'] = rule['name']\n",
    "                elif rule['attr'] == 'Size':\n",
    "                    rule_data[f'component{cid}_size'] = rule['name']\n",
    "                elif rule['attr'] == 'Color':\n",
    "                    rule_data[f'component{cid}_color'] = rule['name']\n",
    "            full_rule_data.append(rule_data)\n",
    "\n",
    "        # Get discrete panel representations (features)\n",
    "        panel_df = panel_dict_to_df(range(6, 16), context_panels, str(file_path))\n",
    "        all_panel_df.append(panel_df)\n",
    "\n",
    "    return pd.concat(all_panel_df).reset_index(drop=True), pd.DataFrame(full_rule_data)"
   ],
   "metadata": {
    "collapsed": false,
    "ExecuteTime": {
     "end_time": "2023-10-18T12:35:23.990314Z",
     "start_time": "2023-10-18T12:35:23.984037Z"
    }
   },
   "id": "fe1315a293284858"
  },
  {
   "cell_type": "code",
   "execution_count": 77,
   "outputs": [],
   "source": [
    "panels, rules = extract_stage3_ground_truth('dataset', 'train')"
   ],
   "metadata": {
    "collapsed": false,
    "ExecuteTime": {
     "end_time": "2023-10-18T12:35:31.021473Z",
     "start_time": "2023-10-18T12:35:24.278756Z"
    }
   },
   "id": "2bb1ffd4bfe1d65c"
  },
  {
   "cell_type": "code",
   "execution_count": 82,
   "outputs": [],
   "source": [
    "def prepare_stage3_dataset(panels_df: pd.DataFrame, rules_df: pd.DataFrame):\n",
    "    panels_df_copy = panels_df.copy()\n",
    "    reshaped_indices = ['file', 'component', 'panel']\n",
    "\n",
    "    reshaped_panels_df = panels_df_copy.set_index(reshaped_indices).unstack(level=-1)\n",
    "    reshaped_panels_df.columns.names = ['slot_attr', 'panel']\n",
    "    reshaped_panels_df.columns = reshaped_panels_df.columns.swaplevel(0, 1)\n",
    "    reshaped_panels_df = reshaped_panels_df.sort_index(axis=1, level=0)\n",
    "\n",
    "    index_tuples = []\n",
    "    for panel_idx, slot_idx, attr in list(product(range(6, 16),\n",
    "                                                  range(0, 22),\n",
    "                                                  ['color', 'size', 'type'])):\n",
    "        index_tuples.append((panel_idx, f'slot{slot_idx}_{attr}'))\n",
    "    multi_index = pd.MultiIndex.from_tuples(index_tuples, names=['panel', 'slot_attr'])\n",
    "    reshaped_panels_df = pd.DataFrame(reshaped_panels_df, columns=multi_index)\n",
    "\n",
    "    reshaped_panels_df.columns = reshaped_panels_df.columns.map(lambda x: 'panel' + '_'.join(list(map(str, x))))\n",
    "    reshaped_panels_df = reshaped_panels_df.groupby('file').max()\n",
    "    \n",
    "    # return reshaped_panels_df\n",
    "    rules_df = rules_df.rename(columns={'file_path': 'file'})\n",
    "    rules_df = rules_df.set_index(['file'])\n",
    "\n",
    "    final_df = reshaped_panels_df.join(rules_df)\n",
    "\n",
    "    return final_df"
   ],
   "metadata": {
    "collapsed": false,
    "ExecuteTime": {
     "end_time": "2023-10-18T12:36:22.558067Z",
     "start_time": "2023-10-18T12:36:22.550851Z"
    }
   },
   "id": "49338d5f0dcf5a60"
  },
  {
   "cell_type": "code",
   "execution_count": 83,
   "outputs": [
    {
     "data": {
      "text/plain": "                                                    panel6_slot0_color  \\\nfile                                                                     \ndataset/center_single/RAVEN_0_train                                 -1   \ndataset/center_single/RAVEN_100_train                               -1   \ndataset/center_single/RAVEN_101_train                               -1   \ndataset/center_single/RAVEN_102_train                               -1   \ndataset/center_single/RAVEN_103_train                               -1   \n...                                                                ...   \ndataset/up_center_single_down_center_single/RAV...                  -1   \ndataset/up_center_single_down_center_single/RAV...                  -1   \ndataset/up_center_single_down_center_single/RAV...                  -1   \ndataset/up_center_single_down_center_single/RAV...                  -1   \ndataset/up_center_single_down_center_single/RAV...                  -1   \n\n                                                    panel6_slot0_size  \\\nfile                                                                    \ndataset/center_single/RAVEN_0_train                                -1   \ndataset/center_single/RAVEN_100_train                              -1   \ndataset/center_single/RAVEN_101_train                              -1   \ndataset/center_single/RAVEN_102_train                              -1   \ndataset/center_single/RAVEN_103_train                              -1   \n...                                                               ...   \ndataset/up_center_single_down_center_single/RAV...                 -1   \ndataset/up_center_single_down_center_single/RAV...                 -1   \ndataset/up_center_single_down_center_single/RAV...                 -1   \ndataset/up_center_single_down_center_single/RAV...                 -1   \ndataset/up_center_single_down_center_single/RAV...                 -1   \n\n                                                    panel6_slot0_type  \\\nfile                                                                    \ndataset/center_single/RAVEN_0_train                                -1   \ndataset/center_single/RAVEN_100_train                              -1   \ndataset/center_single/RAVEN_101_train                              -1   \ndataset/center_single/RAVEN_102_train                              -1   \ndataset/center_single/RAVEN_103_train                              -1   \n...                                                               ...   \ndataset/up_center_single_down_center_single/RAV...                 -1   \ndataset/up_center_single_down_center_single/RAV...                 -1   \ndataset/up_center_single_down_center_single/RAV...                 -1   \ndataset/up_center_single_down_center_single/RAV...                 -1   \ndataset/up_center_single_down_center_single/RAV...                 -1   \n\n                                                    panel6_slot1_color  \\\nfile                                                                     \ndataset/center_single/RAVEN_0_train                                 -1   \ndataset/center_single/RAVEN_100_train                               -1   \ndataset/center_single/RAVEN_101_train                               -1   \ndataset/center_single/RAVEN_102_train                               -1   \ndataset/center_single/RAVEN_103_train                               -1   \n...                                                                ...   \ndataset/up_center_single_down_center_single/RAV...                  -1   \ndataset/up_center_single_down_center_single/RAV...                  -1   \ndataset/up_center_single_down_center_single/RAV...                  -1   \ndataset/up_center_single_down_center_single/RAV...                  -1   \ndataset/up_center_single_down_center_single/RAV...                  -1   \n\n                                                    panel6_slot1_size  \\\nfile                                                                    \ndataset/center_single/RAVEN_0_train                                -1   \ndataset/center_single/RAVEN_100_train                              -1   \ndataset/center_single/RAVEN_101_train                              -1   \ndataset/center_single/RAVEN_102_train                              -1   \ndataset/center_single/RAVEN_103_train                              -1   \n...                                                               ...   \ndataset/up_center_single_down_center_single/RAV...                 -1   \ndataset/up_center_single_down_center_single/RAV...                 -1   \ndataset/up_center_single_down_center_single/RAV...                 -1   \ndataset/up_center_single_down_center_single/RAV...                 -1   \ndataset/up_center_single_down_center_single/RAV...                 -1   \n\n                                                    panel6_slot1_type  \\\nfile                                                                    \ndataset/center_single/RAVEN_0_train                                -1   \ndataset/center_single/RAVEN_100_train                              -1   \ndataset/center_single/RAVEN_101_train                              -1   \ndataset/center_single/RAVEN_102_train                              -1   \ndataset/center_single/RAVEN_103_train                              -1   \n...                                                               ...   \ndataset/up_center_single_down_center_single/RAV...                 -1   \ndataset/up_center_single_down_center_single/RAV...                 -1   \ndataset/up_center_single_down_center_single/RAV...                 -1   \ndataset/up_center_single_down_center_single/RAV...                 -1   \ndataset/up_center_single_down_center_single/RAV...                 -1   \n\n                                                    panel6_slot2_color  \\\nfile                                                                     \ndataset/center_single/RAVEN_0_train                                 -1   \ndataset/center_single/RAVEN_100_train                               -1   \ndataset/center_single/RAVEN_101_train                               -1   \ndataset/center_single/RAVEN_102_train                               -1   \ndataset/center_single/RAVEN_103_train                               -1   \n...                                                                ...   \ndataset/up_center_single_down_center_single/RAV...                  -1   \ndataset/up_center_single_down_center_single/RAV...                  -1   \ndataset/up_center_single_down_center_single/RAV...                  -1   \ndataset/up_center_single_down_center_single/RAV...                  -1   \ndataset/up_center_single_down_center_single/RAV...                  -1   \n\n                                                    panel6_slot2_size  \\\nfile                                                                    \ndataset/center_single/RAVEN_0_train                                -1   \ndataset/center_single/RAVEN_100_train                              -1   \ndataset/center_single/RAVEN_101_train                              -1   \ndataset/center_single/RAVEN_102_train                              -1   \ndataset/center_single/RAVEN_103_train                              -1   \n...                                                               ...   \ndataset/up_center_single_down_center_single/RAV...                 -1   \ndataset/up_center_single_down_center_single/RAV...                 -1   \ndataset/up_center_single_down_center_single/RAV...                 -1   \ndataset/up_center_single_down_center_single/RAV...                 -1   \ndataset/up_center_single_down_center_single/RAV...                 -1   \n\n                                                    panel6_slot2_type  \\\nfile                                                                    \ndataset/center_single/RAVEN_0_train                                -1   \ndataset/center_single/RAVEN_100_train                              -1   \ndataset/center_single/RAVEN_101_train                              -1   \ndataset/center_single/RAVEN_102_train                              -1   \ndataset/center_single/RAVEN_103_train                              -1   \n...                                                               ...   \ndataset/up_center_single_down_center_single/RAV...                 -1   \ndataset/up_center_single_down_center_single/RAV...                 -1   \ndataset/up_center_single_down_center_single/RAV...                 -1   \ndataset/up_center_single_down_center_single/RAV...                 -1   \ndataset/up_center_single_down_center_single/RAV...                 -1   \n\n                                                    panel6_slot3_color  ...  \\\nfile                                                                    ...   \ndataset/center_single/RAVEN_0_train                                 -1  ...   \ndataset/center_single/RAVEN_100_train                               -1  ...   \ndataset/center_single/RAVEN_101_train                               -1  ...   \ndataset/center_single/RAVEN_102_train                               -1  ...   \ndataset/center_single/RAVEN_103_train                               -1  ...   \n...                                                                ...  ...   \ndataset/up_center_single_down_center_single/RAV...                  -1  ...   \ndataset/up_center_single_down_center_single/RAV...                  -1  ...   \ndataset/up_center_single_down_center_single/RAV...                  -1  ...   \ndataset/up_center_single_down_center_single/RAV...                  -1  ...   \ndataset/up_center_single_down_center_single/RAV...                  -1  ...   \n\n                                                    component0_number  \\\nfile                                                                    \ndataset/center_single/RAVEN_0_train                          Constant   \ndataset/center_single/RAVEN_100_train                        Constant   \ndataset/center_single/RAVEN_101_train                        Constant   \ndataset/center_single/RAVEN_102_train                        Constant   \ndataset/center_single/RAVEN_103_train                        Constant   \n...                                                               ...   \ndataset/up_center_single_down_center_single/RAV...                NaN   \ndataset/up_center_single_down_center_single/RAV...           Constant   \ndataset/up_center_single_down_center_single/RAV...                NaN   \ndataset/up_center_single_down_center_single/RAV...           Constant   \ndataset/up_center_single_down_center_single/RAV...                NaN   \n\n                                                    component0_position  \\\nfile                                                                      \ndataset/center_single/RAVEN_0_train                            Constant   \ndataset/center_single/RAVEN_100_train                          Constant   \ndataset/center_single/RAVEN_101_train                          Constant   \ndataset/center_single/RAVEN_102_train                          Constant   \ndataset/center_single/RAVEN_103_train                          Constant   \n...                                                                 ...   \ndataset/up_center_single_down_center_single/RAV...                  NaN   \ndataset/up_center_single_down_center_single/RAV...             Constant   \ndataset/up_center_single_down_center_single/RAV...                  NaN   \ndataset/up_center_single_down_center_single/RAV...             Constant   \ndataset/up_center_single_down_center_single/RAV...                  NaN   \n\n                                                     component0_type  \\\nfile                                                                   \ndataset/center_single/RAVEN_0_train                         Constant   \ndataset/center_single/RAVEN_100_train                       Constant   \ndataset/center_single/RAVEN_101_train                    Progression   \ndataset/center_single/RAVEN_102_train               Distribute_Three   \ndataset/center_single/RAVEN_103_train               Distribute_Three   \n...                                                              ...   \ndataset/up_center_single_down_center_single/RAV...               NaN   \ndataset/up_center_single_down_center_single/RAV...          Constant   \ndataset/up_center_single_down_center_single/RAV...               NaN   \ndataset/up_center_single_down_center_single/RAV...          Constant   \ndataset/up_center_single_down_center_single/RAV...               NaN   \n\n                                                     component0_size  \\\nfile                                                                   \ndataset/center_single/RAVEN_0_train                      Progression   \ndataset/center_single/RAVEN_100_train                    Progression   \ndataset/center_single/RAVEN_101_train                     Arithmetic   \ndataset/center_single/RAVEN_102_train                     Arithmetic   \ndataset/center_single/RAVEN_103_train                       Constant   \n...                                                              ...   \ndataset/up_center_single_down_center_single/RAV...               NaN   \ndataset/up_center_single_down_center_single/RAV...        Arithmetic   \ndataset/up_center_single_down_center_single/RAV...               NaN   \ndataset/up_center_single_down_center_single/RAV...  Distribute_Three   \ndataset/up_center_single_down_center_single/RAV...               NaN   \n\n                                                    component0_color  \\\nfile                                                                   \ndataset/center_single/RAVEN_0_train                      Progression   \ndataset/center_single/RAVEN_100_train                    Progression   \ndataset/center_single/RAVEN_101_train               Distribute_Three   \ndataset/center_single/RAVEN_102_train                       Constant   \ndataset/center_single/RAVEN_103_train               Distribute_Three   \n...                                                              ...   \ndataset/up_center_single_down_center_single/RAV...               NaN   \ndataset/up_center_single_down_center_single/RAV...  Distribute_Three   \ndataset/up_center_single_down_center_single/RAV...               NaN   \ndataset/up_center_single_down_center_single/RAV...        Arithmetic   \ndataset/up_center_single_down_center_single/RAV...               NaN   \n\n                                                    component1_number  \\\nfile                                                                    \ndataset/center_single/RAVEN_0_train                               NaN   \ndataset/center_single/RAVEN_100_train                             NaN   \ndataset/center_single/RAVEN_101_train                             NaN   \ndataset/center_single/RAVEN_102_train                             NaN   \ndataset/center_single/RAVEN_103_train                             NaN   \n...                                                               ...   \ndataset/up_center_single_down_center_single/RAV...           Constant   \ndataset/up_center_single_down_center_single/RAV...                NaN   \ndataset/up_center_single_down_center_single/RAV...           Constant   \ndataset/up_center_single_down_center_single/RAV...                NaN   \ndataset/up_center_single_down_center_single/RAV...           Constant   \n\n                                                    component1_position  \\\nfile                                                                      \ndataset/center_single/RAVEN_0_train                                 NaN   \ndataset/center_single/RAVEN_100_train                               NaN   \ndataset/center_single/RAVEN_101_train                               NaN   \ndataset/center_single/RAVEN_102_train                               NaN   \ndataset/center_single/RAVEN_103_train                               NaN   \n...                                                                 ...   \ndataset/up_center_single_down_center_single/RAV...             Constant   \ndataset/up_center_single_down_center_single/RAV...                  NaN   \ndataset/up_center_single_down_center_single/RAV...             Constant   \ndataset/up_center_single_down_center_single/RAV...                  NaN   \ndataset/up_center_single_down_center_single/RAV...             Constant   \n\n                                                     component1_type  \\\nfile                                                                   \ndataset/center_single/RAVEN_0_train                              NaN   \ndataset/center_single/RAVEN_100_train                            NaN   \ndataset/center_single/RAVEN_101_train                            NaN   \ndataset/center_single/RAVEN_102_train                            NaN   \ndataset/center_single/RAVEN_103_train                            NaN   \n...                                                              ...   \ndataset/up_center_single_down_center_single/RAV...          Constant   \ndataset/up_center_single_down_center_single/RAV...               NaN   \ndataset/up_center_single_down_center_single/RAV...  Distribute_Three   \ndataset/up_center_single_down_center_single/RAV...               NaN   \ndataset/up_center_single_down_center_single/RAV...          Constant   \n\n                                                     component1_size  \\\nfile                                                                   \ndataset/center_single/RAVEN_0_train                              NaN   \ndataset/center_single/RAVEN_100_train                            NaN   \ndataset/center_single/RAVEN_101_train                            NaN   \ndataset/center_single/RAVEN_102_train                            NaN   \ndataset/center_single/RAVEN_103_train                            NaN   \n...                                                              ...   \ndataset/up_center_single_down_center_single/RAV...        Arithmetic   \ndataset/up_center_single_down_center_single/RAV...               NaN   \ndataset/up_center_single_down_center_single/RAV...        Arithmetic   \ndataset/up_center_single_down_center_single/RAV...               NaN   \ndataset/up_center_single_down_center_single/RAV...  Distribute_Three   \n\n                                                    component1_color  \nfile                                                                  \ndataset/center_single/RAVEN_0_train                              NaN  \ndataset/center_single/RAVEN_100_train                            NaN  \ndataset/center_single/RAVEN_101_train                            NaN  \ndataset/center_single/RAVEN_102_train                            NaN  \ndataset/center_single/RAVEN_103_train                            NaN  \n...                                                              ...  \ndataset/up_center_single_down_center_single/RAV...       Progression  \ndataset/up_center_single_down_center_single/RAV...               NaN  \ndataset/up_center_single_down_center_single/RAV...  Distribute_Three  \ndataset/up_center_single_down_center_single/RAV...               NaN  \ndataset/up_center_single_down_center_single/RAV...  Distribute_Three  \n\n[6600 rows x 670 columns]",
      "text/html": "<div>\n<style scoped>\n    .dataframe tbody tr th:only-of-type {\n        vertical-align: middle;\n    }\n\n    .dataframe tbody tr th {\n        vertical-align: top;\n    }\n\n    .dataframe thead th {\n        text-align: right;\n    }\n</style>\n<table border=\"1\" class=\"dataframe\">\n  <thead>\n    <tr style=\"text-align: right;\">\n      <th></th>\n      <th>panel6_slot0_color</th>\n      <th>panel6_slot0_size</th>\n      <th>panel6_slot0_type</th>\n      <th>panel6_slot1_color</th>\n      <th>panel6_slot1_size</th>\n      <th>panel6_slot1_type</th>\n      <th>panel6_slot2_color</th>\n      <th>panel6_slot2_size</th>\n      <th>panel6_slot2_type</th>\n      <th>panel6_slot3_color</th>\n      <th>...</th>\n      <th>component0_number</th>\n      <th>component0_position</th>\n      <th>component0_type</th>\n      <th>component0_size</th>\n      <th>component0_color</th>\n      <th>component1_number</th>\n      <th>component1_position</th>\n      <th>component1_type</th>\n      <th>component1_size</th>\n      <th>component1_color</th>\n    </tr>\n    <tr>\n      <th>file</th>\n      <th></th>\n      <th></th>\n      <th></th>\n      <th></th>\n      <th></th>\n      <th></th>\n      <th></th>\n      <th></th>\n      <th></th>\n      <th></th>\n      <th></th>\n      <th></th>\n      <th></th>\n      <th></th>\n      <th></th>\n      <th></th>\n      <th></th>\n      <th></th>\n      <th></th>\n      <th></th>\n      <th></th>\n    </tr>\n  </thead>\n  <tbody>\n    <tr>\n      <th>dataset/center_single/RAVEN_0_train</th>\n      <td>-1</td>\n      <td>-1</td>\n      <td>-1</td>\n      <td>-1</td>\n      <td>-1</td>\n      <td>-1</td>\n      <td>-1</td>\n      <td>-1</td>\n      <td>-1</td>\n      <td>-1</td>\n      <td>...</td>\n      <td>Constant</td>\n      <td>Constant</td>\n      <td>Constant</td>\n      <td>Progression</td>\n      <td>Progression</td>\n      <td>NaN</td>\n      <td>NaN</td>\n      <td>NaN</td>\n      <td>NaN</td>\n      <td>NaN</td>\n    </tr>\n    <tr>\n      <th>dataset/center_single/RAVEN_100_train</th>\n      <td>-1</td>\n      <td>-1</td>\n      <td>-1</td>\n      <td>-1</td>\n      <td>-1</td>\n      <td>-1</td>\n      <td>-1</td>\n      <td>-1</td>\n      <td>-1</td>\n      <td>-1</td>\n      <td>...</td>\n      <td>Constant</td>\n      <td>Constant</td>\n      <td>Constant</td>\n      <td>Progression</td>\n      <td>Progression</td>\n      <td>NaN</td>\n      <td>NaN</td>\n      <td>NaN</td>\n      <td>NaN</td>\n      <td>NaN</td>\n    </tr>\n    <tr>\n      <th>dataset/center_single/RAVEN_101_train</th>\n      <td>-1</td>\n      <td>-1</td>\n      <td>-1</td>\n      <td>-1</td>\n      <td>-1</td>\n      <td>-1</td>\n      <td>-1</td>\n      <td>-1</td>\n      <td>-1</td>\n      <td>-1</td>\n      <td>...</td>\n      <td>Constant</td>\n      <td>Constant</td>\n      <td>Progression</td>\n      <td>Arithmetic</td>\n      <td>Distribute_Three</td>\n      <td>NaN</td>\n      <td>NaN</td>\n      <td>NaN</td>\n      <td>NaN</td>\n      <td>NaN</td>\n    </tr>\n    <tr>\n      <th>dataset/center_single/RAVEN_102_train</th>\n      <td>-1</td>\n      <td>-1</td>\n      <td>-1</td>\n      <td>-1</td>\n      <td>-1</td>\n      <td>-1</td>\n      <td>-1</td>\n      <td>-1</td>\n      <td>-1</td>\n      <td>-1</td>\n      <td>...</td>\n      <td>Constant</td>\n      <td>Constant</td>\n      <td>Distribute_Three</td>\n      <td>Arithmetic</td>\n      <td>Constant</td>\n      <td>NaN</td>\n      <td>NaN</td>\n      <td>NaN</td>\n      <td>NaN</td>\n      <td>NaN</td>\n    </tr>\n    <tr>\n      <th>dataset/center_single/RAVEN_103_train</th>\n      <td>-1</td>\n      <td>-1</td>\n      <td>-1</td>\n      <td>-1</td>\n      <td>-1</td>\n      <td>-1</td>\n      <td>-1</td>\n      <td>-1</td>\n      <td>-1</td>\n      <td>-1</td>\n      <td>...</td>\n      <td>Constant</td>\n      <td>Constant</td>\n      <td>Distribute_Three</td>\n      <td>Constant</td>\n      <td>Distribute_Three</td>\n      <td>NaN</td>\n      <td>NaN</td>\n      <td>NaN</td>\n      <td>NaN</td>\n      <td>NaN</td>\n    </tr>\n    <tr>\n      <th>...</th>\n      <td>...</td>\n      <td>...</td>\n      <td>...</td>\n      <td>...</td>\n      <td>...</td>\n      <td>...</td>\n      <td>...</td>\n      <td>...</td>\n      <td>...</td>\n      <td>...</td>\n      <td>...</td>\n      <td>...</td>\n      <td>...</td>\n      <td>...</td>\n      <td>...</td>\n      <td>...</td>\n      <td>...</td>\n      <td>...</td>\n      <td>...</td>\n      <td>...</td>\n      <td>...</td>\n    </tr>\n    <tr>\n      <th>dataset/up_center_single_down_center_single/RAVEN_993_train</th>\n      <td>-1</td>\n      <td>-1</td>\n      <td>-1</td>\n      <td>-1</td>\n      <td>-1</td>\n      <td>-1</td>\n      <td>-1</td>\n      <td>-1</td>\n      <td>-1</td>\n      <td>-1</td>\n      <td>...</td>\n      <td>NaN</td>\n      <td>NaN</td>\n      <td>NaN</td>\n      <td>NaN</td>\n      <td>NaN</td>\n      <td>Constant</td>\n      <td>Constant</td>\n      <td>Constant</td>\n      <td>Arithmetic</td>\n      <td>Progression</td>\n    </tr>\n    <tr>\n      <th>dataset/up_center_single_down_center_single/RAVEN_994_train</th>\n      <td>-1</td>\n      <td>-1</td>\n      <td>-1</td>\n      <td>-1</td>\n      <td>-1</td>\n      <td>-1</td>\n      <td>-1</td>\n      <td>-1</td>\n      <td>-1</td>\n      <td>-1</td>\n      <td>...</td>\n      <td>Constant</td>\n      <td>Constant</td>\n      <td>Constant</td>\n      <td>Arithmetic</td>\n      <td>Distribute_Three</td>\n      <td>NaN</td>\n      <td>NaN</td>\n      <td>NaN</td>\n      <td>NaN</td>\n      <td>NaN</td>\n    </tr>\n    <tr>\n      <th>dataset/up_center_single_down_center_single/RAVEN_994_train</th>\n      <td>-1</td>\n      <td>-1</td>\n      <td>-1</td>\n      <td>-1</td>\n      <td>-1</td>\n      <td>-1</td>\n      <td>-1</td>\n      <td>-1</td>\n      <td>-1</td>\n      <td>-1</td>\n      <td>...</td>\n      <td>NaN</td>\n      <td>NaN</td>\n      <td>NaN</td>\n      <td>NaN</td>\n      <td>NaN</td>\n      <td>Constant</td>\n      <td>Constant</td>\n      <td>Distribute_Three</td>\n      <td>Arithmetic</td>\n      <td>Distribute_Three</td>\n    </tr>\n    <tr>\n      <th>dataset/up_center_single_down_center_single/RAVEN_995_train</th>\n      <td>-1</td>\n      <td>-1</td>\n      <td>-1</td>\n      <td>-1</td>\n      <td>-1</td>\n      <td>-1</td>\n      <td>-1</td>\n      <td>-1</td>\n      <td>-1</td>\n      <td>-1</td>\n      <td>...</td>\n      <td>Constant</td>\n      <td>Constant</td>\n      <td>Constant</td>\n      <td>Distribute_Three</td>\n      <td>Arithmetic</td>\n      <td>NaN</td>\n      <td>NaN</td>\n      <td>NaN</td>\n      <td>NaN</td>\n      <td>NaN</td>\n    </tr>\n    <tr>\n      <th>dataset/up_center_single_down_center_single/RAVEN_995_train</th>\n      <td>-1</td>\n      <td>-1</td>\n      <td>-1</td>\n      <td>-1</td>\n      <td>-1</td>\n      <td>-1</td>\n      <td>-1</td>\n      <td>-1</td>\n      <td>-1</td>\n      <td>-1</td>\n      <td>...</td>\n      <td>NaN</td>\n      <td>NaN</td>\n      <td>NaN</td>\n      <td>NaN</td>\n      <td>NaN</td>\n      <td>Constant</td>\n      <td>Constant</td>\n      <td>Constant</td>\n      <td>Distribute_Three</td>\n      <td>Distribute_Three</td>\n    </tr>\n  </tbody>\n</table>\n<p>6600 rows × 670 columns</p>\n</div>"
     },
     "execution_count": 83,
     "metadata": {},
     "output_type": "execute_result"
    }
   ],
   "source": [
    "prepare_stage3_dataset(panels, rules)"
   ],
   "metadata": {
    "collapsed": false,
    "ExecuteTime": {
     "end_time": "2023-10-18T12:36:22.863571Z",
     "start_time": "2023-10-18T12:36:22.725610Z"
    }
   },
   "id": "fd809c93d6ddfc84"
  },
  {
   "cell_type": "code",
   "execution_count": null,
   "outputs": [],
   "source": [],
   "metadata": {
    "collapsed": false
   },
   "id": "b35f57b842b2d006"
  }
 ],
 "metadata": {
  "kernelspec": {
   "display_name": "Python 3",
   "language": "python",
   "name": "python3"
  },
  "language_info": {
   "codemirror_mode": {
    "name": "ipython",
    "version": 2
   },
   "file_extension": ".py",
   "mimetype": "text/x-python",
   "name": "python",
   "nbconvert_exporter": "python",
   "pygments_lexer": "ipython2",
   "version": "2.7.6"
  }
 },
 "nbformat": 4,
 "nbformat_minor": 5
}
