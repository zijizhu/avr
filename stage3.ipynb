{
 "cells": [
  {
   "cell_type": "code",
   "execution_count": 129,
   "id": "initial_id",
   "metadata": {
    "collapsed": true,
    "ExecuteTime": {
     "end_time": "2023-10-19T01:11:40.936938Z",
     "start_time": "2023-10-19T01:11:40.932815Z"
    }
   },
   "outputs": [],
   "source": [
    "import json\n",
    "import pandas as pd\n",
    "import xml.etree.ElementTree as ET\n",
    "from itertools import product\n",
    "from pathlib import Path\n",
    "\n",
    "import numpy as np\n",
    "import torch\n",
    "from torch import nn\n",
    "from torch.utils.data import Dataset, DataLoader\n",
    "\n",
    "from utils import parse_panels, bbox_to_xyxy, parse_rules, plot_example\n",
    "from avr_dataset import configurations, id2type, id2size, slot2id, id2slot, panel_dict_to_df, extract_stage2_ground_truth"
   ]
  },
  {
   "cell_type": "code",
   "execution_count": 101,
   "outputs": [],
   "source": [
    "def extract_stage3_ground_truth(dataset_dir: str, split: str):\n",
    "    dataset_path = Path(dataset_dir)\n",
    "    all_file_stems = list(fn.stem for fn in (dataset_path / Path(configurations[0])).glob(f'*_{split}.npz'))\n",
    "    all_file_paths = [Path(dataset_path, config, base_fn) for config, base_fn in\n",
    "                      product(configurations, all_file_stems)]\n",
    "\n",
    "    all_panel_df = []\n",
    "    full_rule_data = []\n",
    "    full_target_data = []\n",
    "\n",
    "    for file_path in all_file_paths:\n",
    "        xml = ET.parse(file_path.with_suffix('.xml'))\n",
    "        npz = np.load(file_path.with_suffix('.npz'))\n",
    "        xml_root = xml.getroot()\n",
    "        panel_info_list = parse_panels(xml_root)\n",
    "        component_rules = parse_rules(xml_root)\n",
    "        context_panels = panel_info_list[6:]\n",
    "        \n",
    "        full_target_data.append({'file': str(file_path), 'target': npz['target'].item()})\n",
    "\n",
    "        # Get rules (labels)\n",
    "        for component in component_rules:\n",
    "            cid = int(component['component_id'])\n",
    "            rule_data = {'file_path': str(file_path)}\n",
    "            for rule in component['rules']:\n",
    "                if (rule['attr'] == 'Number/Position') or (rule['attr'] == 'Number') or (rule['attr'] == 'Position'):\n",
    "                    rule_data[f'component{cid}_number'] = rule['name']\n",
    "                    rule_data[f'component{cid}_position'] = rule['name']\n",
    "                elif rule['attr'] == 'Type':\n",
    "                    rule_data[f'component{cid}_type'] = rule['name']\n",
    "                elif rule['attr'] == 'Size':\n",
    "                    rule_data[f'component{cid}_size'] = rule['name']\n",
    "                elif rule['attr'] == 'Color':\n",
    "                    rule_data[f'component{cid}_color'] = rule['name']\n",
    "            full_rule_data.append(rule_data)\n",
    "\n",
    "        # Get discrete panel representations (features)\n",
    "        panel_df = panel_dict_to_df(range(6, 16), context_panels, str(file_path))\n",
    "        all_panel_df.append(panel_df)\n",
    "\n",
    "    return (pd.concat(all_panel_df).reset_index(drop=True),\n",
    "            pd.DataFrame(full_rule_data),\n",
    "            pd.DataFrame(full_target_data))"
   ],
   "metadata": {
    "collapsed": false,
    "ExecuteTime": {
     "end_time": "2023-10-18T22:29:34.342382Z",
     "start_time": "2023-10-18T22:29:34.322830Z"
    }
   },
   "id": "fe1315a293284858"
  },
  {
   "cell_type": "code",
   "execution_count": 102,
   "outputs": [],
   "source": [
    "panels, rules, targets = extract_stage3_ground_truth('dataset', 'train')"
   ],
   "metadata": {
    "collapsed": false,
    "ExecuteTime": {
     "end_time": "2023-10-18T22:29:42.798915Z",
     "start_time": "2023-10-18T22:29:34.437477Z"
    }
   },
   "id": "2bb1ffd4bfe1d65c"
  },
  {
   "cell_type": "code",
   "execution_count": 103,
   "outputs": [],
   "source": [
    "def prepare_stage3_dataset(panels_df: pd.DataFrame, rules_df: pd.DataFrame, target_df: pd.DataFrame):\n",
    "    panels_df_copy = panels_df.copy()\n",
    "    reshaped_indices = ['file', 'component', 'panel']\n",
    "\n",
    "    reshaped_panels_df = panels_df_copy.set_index(reshaped_indices).unstack(level=-1)\n",
    "    reshaped_panels_df.columns.names = ['slot_attr', 'panel']\n",
    "    reshaped_panels_df.columns = reshaped_panels_df.columns.swaplevel(0, 1)\n",
    "    reshaped_panels_df = reshaped_panels_df.sort_index(axis=1, level=0)\n",
    "\n",
    "    index_tuples = []\n",
    "    for panel_idx, slot_idx, attr in list(product(range(6, 16),\n",
    "                                                  range(0, 22),\n",
    "                                                  ['color', 'size', 'type'])):\n",
    "        index_tuples.append((panel_idx, f'slot{slot_idx}_{attr}'))\n",
    "    multi_index = pd.MultiIndex.from_tuples(index_tuples, names=['panel', 'slot_attr'])\n",
    "    reshaped_panels_df = pd.DataFrame(reshaped_panels_df, columns=multi_index)\n",
    "\n",
    "    reshaped_panels_df.columns = reshaped_panels_df.columns.map(lambda x: 'panel' + '_'.join(list(map(str, x))))\n",
    "    reshaped_panels_df = reshaped_panels_df.groupby('file').max()\n",
    "    \n",
    "    # return reshaped_panels_df\n",
    "    rules_df = rules_df.rename(columns={'file_path': 'file'})\n",
    "    rules_df = rules_df.set_index(['file'])\n",
    "\n",
    "    final_df = reshaped_panels_df.join(rules_df).join(target_df.set_index(['file']))\n",
    "\n",
    "    return final_df"
   ],
   "metadata": {
    "collapsed": false,
    "ExecuteTime": {
     "end_time": "2023-10-18T22:30:32.207376Z",
     "start_time": "2023-10-18T22:30:32.190864Z"
    }
   },
   "id": "49338d5f0dcf5a60"
  },
  {
   "cell_type": "code",
   "execution_count": 115,
   "outputs": [
    {
     "data": {
      "text/plain": "                                                   file  panel6_slot0_color  \\\n0                   dataset/center_single/RAVEN_0_train                  -1   \n1                 dataset/center_single/RAVEN_100_train                  -1   \n2                 dataset/center_single/RAVEN_101_train                  -1   \n3                 dataset/center_single/RAVEN_102_train                  -1   \n4                 dataset/center_single/RAVEN_103_train                  -1   \n...                                                 ...                 ...   \n6595  dataset/up_center_single_down_center_single/RA...                  -1   \n6596  dataset/up_center_single_down_center_single/RA...                  -1   \n6597  dataset/up_center_single_down_center_single/RA...                  -1   \n6598  dataset/up_center_single_down_center_single/RA...                  -1   \n6599  dataset/up_center_single_down_center_single/RA...                  -1   \n\n      panel6_slot0_size  panel6_slot0_type  panel6_slot1_color  \\\n0                    -1                 -1                  -1   \n1                    -1                 -1                  -1   \n2                    -1                 -1                  -1   \n3                    -1                 -1                  -1   \n4                    -1                 -1                  -1   \n...                 ...                ...                 ...   \n6595                 -1                 -1                  -1   \n6596                 -1                 -1                  -1   \n6597                 -1                 -1                  -1   \n6598                 -1                 -1                  -1   \n6599                 -1                 -1                  -1   \n\n      panel6_slot1_size  panel6_slot1_type  panel6_slot2_color  \\\n0                    -1                 -1                  -1   \n1                    -1                 -1                  -1   \n2                    -1                 -1                  -1   \n3                    -1                 -1                  -1   \n4                    -1                 -1                  -1   \n...                 ...                ...                 ...   \n6595                 -1                 -1                  -1   \n6596                 -1                 -1                  -1   \n6597                 -1                 -1                  -1   \n6598                 -1                 -1                  -1   \n6599                 -1                 -1                  -1   \n\n      panel6_slot2_size  panel6_slot2_type  ...  component0_position  \\\n0                    -1                 -1  ...             Constant   \n1                    -1                 -1  ...             Constant   \n2                    -1                 -1  ...             Constant   \n3                    -1                 -1  ...             Constant   \n4                    -1                 -1  ...             Constant   \n...                 ...                ...  ...                  ...   \n6595                 -1                 -1  ...                  NaN   \n6596                 -1                 -1  ...             Constant   \n6597                 -1                 -1  ...                  NaN   \n6598                 -1                 -1  ...             Constant   \n6599                 -1                 -1  ...                  NaN   \n\n       component0_type   component0_size  component0_color  component1_number  \\\n0             Constant       Progression       Progression                NaN   \n1             Constant       Progression       Progression                NaN   \n2          Progression        Arithmetic  Distribute_Three                NaN   \n3     Distribute_Three        Arithmetic          Constant                NaN   \n4     Distribute_Three          Constant  Distribute_Three                NaN   \n...                ...               ...               ...                ...   \n6595               NaN               NaN               NaN           Constant   \n6596          Constant        Arithmetic  Distribute_Three                NaN   \n6597               NaN               NaN               NaN           Constant   \n6598          Constant  Distribute_Three        Arithmetic                NaN   \n6599               NaN               NaN               NaN           Constant   \n\n      component1_position   component1_type   component1_size  \\\n0                     NaN               NaN               NaN   \n1                     NaN               NaN               NaN   \n2                     NaN               NaN               NaN   \n3                     NaN               NaN               NaN   \n4                     NaN               NaN               NaN   \n...                   ...               ...               ...   \n6595             Constant          Constant        Arithmetic   \n6596                  NaN               NaN               NaN   \n6597             Constant  Distribute_Three        Arithmetic   \n6598                  NaN               NaN               NaN   \n6599             Constant          Constant  Distribute_Three   \n\n      component1_color  target  \n0                  NaN       6  \n1                  NaN       6  \n2                  NaN       1  \n3                  NaN       2  \n4                  NaN       4  \n...                ...     ...  \n6595       Progression       3  \n6596               NaN       1  \n6597  Distribute_Three       1  \n6598               NaN       7  \n6599  Distribute_Three       7  \n\n[6600 rows x 672 columns]",
      "text/html": "<div>\n<style scoped>\n    .dataframe tbody tr th:only-of-type {\n        vertical-align: middle;\n    }\n\n    .dataframe tbody tr th {\n        vertical-align: top;\n    }\n\n    .dataframe thead th {\n        text-align: right;\n    }\n</style>\n<table border=\"1\" class=\"dataframe\">\n  <thead>\n    <tr style=\"text-align: right;\">\n      <th></th>\n      <th>file</th>\n      <th>panel6_slot0_color</th>\n      <th>panel6_slot0_size</th>\n      <th>panel6_slot0_type</th>\n      <th>panel6_slot1_color</th>\n      <th>panel6_slot1_size</th>\n      <th>panel6_slot1_type</th>\n      <th>panel6_slot2_color</th>\n      <th>panel6_slot2_size</th>\n      <th>panel6_slot2_type</th>\n      <th>...</th>\n      <th>component0_position</th>\n      <th>component0_type</th>\n      <th>component0_size</th>\n      <th>component0_color</th>\n      <th>component1_number</th>\n      <th>component1_position</th>\n      <th>component1_type</th>\n      <th>component1_size</th>\n      <th>component1_color</th>\n      <th>target</th>\n    </tr>\n  </thead>\n  <tbody>\n    <tr>\n      <th>0</th>\n      <td>dataset/center_single/RAVEN_0_train</td>\n      <td>-1</td>\n      <td>-1</td>\n      <td>-1</td>\n      <td>-1</td>\n      <td>-1</td>\n      <td>-1</td>\n      <td>-1</td>\n      <td>-1</td>\n      <td>-1</td>\n      <td>...</td>\n      <td>Constant</td>\n      <td>Constant</td>\n      <td>Progression</td>\n      <td>Progression</td>\n      <td>NaN</td>\n      <td>NaN</td>\n      <td>NaN</td>\n      <td>NaN</td>\n      <td>NaN</td>\n      <td>6</td>\n    </tr>\n    <tr>\n      <th>1</th>\n      <td>dataset/center_single/RAVEN_100_train</td>\n      <td>-1</td>\n      <td>-1</td>\n      <td>-1</td>\n      <td>-1</td>\n      <td>-1</td>\n      <td>-1</td>\n      <td>-1</td>\n      <td>-1</td>\n      <td>-1</td>\n      <td>...</td>\n      <td>Constant</td>\n      <td>Constant</td>\n      <td>Progression</td>\n      <td>Progression</td>\n      <td>NaN</td>\n      <td>NaN</td>\n      <td>NaN</td>\n      <td>NaN</td>\n      <td>NaN</td>\n      <td>6</td>\n    </tr>\n    <tr>\n      <th>2</th>\n      <td>dataset/center_single/RAVEN_101_train</td>\n      <td>-1</td>\n      <td>-1</td>\n      <td>-1</td>\n      <td>-1</td>\n      <td>-1</td>\n      <td>-1</td>\n      <td>-1</td>\n      <td>-1</td>\n      <td>-1</td>\n      <td>...</td>\n      <td>Constant</td>\n      <td>Progression</td>\n      <td>Arithmetic</td>\n      <td>Distribute_Three</td>\n      <td>NaN</td>\n      <td>NaN</td>\n      <td>NaN</td>\n      <td>NaN</td>\n      <td>NaN</td>\n      <td>1</td>\n    </tr>\n    <tr>\n      <th>3</th>\n      <td>dataset/center_single/RAVEN_102_train</td>\n      <td>-1</td>\n      <td>-1</td>\n      <td>-1</td>\n      <td>-1</td>\n      <td>-1</td>\n      <td>-1</td>\n      <td>-1</td>\n      <td>-1</td>\n      <td>-1</td>\n      <td>...</td>\n      <td>Constant</td>\n      <td>Distribute_Three</td>\n      <td>Arithmetic</td>\n      <td>Constant</td>\n      <td>NaN</td>\n      <td>NaN</td>\n      <td>NaN</td>\n      <td>NaN</td>\n      <td>NaN</td>\n      <td>2</td>\n    </tr>\n    <tr>\n      <th>4</th>\n      <td>dataset/center_single/RAVEN_103_train</td>\n      <td>-1</td>\n      <td>-1</td>\n      <td>-1</td>\n      <td>-1</td>\n      <td>-1</td>\n      <td>-1</td>\n      <td>-1</td>\n      <td>-1</td>\n      <td>-1</td>\n      <td>...</td>\n      <td>Constant</td>\n      <td>Distribute_Three</td>\n      <td>Constant</td>\n      <td>Distribute_Three</td>\n      <td>NaN</td>\n      <td>NaN</td>\n      <td>NaN</td>\n      <td>NaN</td>\n      <td>NaN</td>\n      <td>4</td>\n    </tr>\n    <tr>\n      <th>...</th>\n      <td>...</td>\n      <td>...</td>\n      <td>...</td>\n      <td>...</td>\n      <td>...</td>\n      <td>...</td>\n      <td>...</td>\n      <td>...</td>\n      <td>...</td>\n      <td>...</td>\n      <td>...</td>\n      <td>...</td>\n      <td>...</td>\n      <td>...</td>\n      <td>...</td>\n      <td>...</td>\n      <td>...</td>\n      <td>...</td>\n      <td>...</td>\n      <td>...</td>\n      <td>...</td>\n    </tr>\n    <tr>\n      <th>6595</th>\n      <td>dataset/up_center_single_down_center_single/RA...</td>\n      <td>-1</td>\n      <td>-1</td>\n      <td>-1</td>\n      <td>-1</td>\n      <td>-1</td>\n      <td>-1</td>\n      <td>-1</td>\n      <td>-1</td>\n      <td>-1</td>\n      <td>...</td>\n      <td>NaN</td>\n      <td>NaN</td>\n      <td>NaN</td>\n      <td>NaN</td>\n      <td>Constant</td>\n      <td>Constant</td>\n      <td>Constant</td>\n      <td>Arithmetic</td>\n      <td>Progression</td>\n      <td>3</td>\n    </tr>\n    <tr>\n      <th>6596</th>\n      <td>dataset/up_center_single_down_center_single/RA...</td>\n      <td>-1</td>\n      <td>-1</td>\n      <td>-1</td>\n      <td>-1</td>\n      <td>-1</td>\n      <td>-1</td>\n      <td>-1</td>\n      <td>-1</td>\n      <td>-1</td>\n      <td>...</td>\n      <td>Constant</td>\n      <td>Constant</td>\n      <td>Arithmetic</td>\n      <td>Distribute_Three</td>\n      <td>NaN</td>\n      <td>NaN</td>\n      <td>NaN</td>\n      <td>NaN</td>\n      <td>NaN</td>\n      <td>1</td>\n    </tr>\n    <tr>\n      <th>6597</th>\n      <td>dataset/up_center_single_down_center_single/RA...</td>\n      <td>-1</td>\n      <td>-1</td>\n      <td>-1</td>\n      <td>-1</td>\n      <td>-1</td>\n      <td>-1</td>\n      <td>-1</td>\n      <td>-1</td>\n      <td>-1</td>\n      <td>...</td>\n      <td>NaN</td>\n      <td>NaN</td>\n      <td>NaN</td>\n      <td>NaN</td>\n      <td>Constant</td>\n      <td>Constant</td>\n      <td>Distribute_Three</td>\n      <td>Arithmetic</td>\n      <td>Distribute_Three</td>\n      <td>1</td>\n    </tr>\n    <tr>\n      <th>6598</th>\n      <td>dataset/up_center_single_down_center_single/RA...</td>\n      <td>-1</td>\n      <td>-1</td>\n      <td>-1</td>\n      <td>-1</td>\n      <td>-1</td>\n      <td>-1</td>\n      <td>-1</td>\n      <td>-1</td>\n      <td>-1</td>\n      <td>...</td>\n      <td>Constant</td>\n      <td>Constant</td>\n      <td>Distribute_Three</td>\n      <td>Arithmetic</td>\n      <td>NaN</td>\n      <td>NaN</td>\n      <td>NaN</td>\n      <td>NaN</td>\n      <td>NaN</td>\n      <td>7</td>\n    </tr>\n    <tr>\n      <th>6599</th>\n      <td>dataset/up_center_single_down_center_single/RA...</td>\n      <td>-1</td>\n      <td>-1</td>\n      <td>-1</td>\n      <td>-1</td>\n      <td>-1</td>\n      <td>-1</td>\n      <td>-1</td>\n      <td>-1</td>\n      <td>-1</td>\n      <td>...</td>\n      <td>NaN</td>\n      <td>NaN</td>\n      <td>NaN</td>\n      <td>NaN</td>\n      <td>Constant</td>\n      <td>Constant</td>\n      <td>Constant</td>\n      <td>Distribute_Three</td>\n      <td>Distribute_Three</td>\n      <td>7</td>\n    </tr>\n  </tbody>\n</table>\n<p>6600 rows × 672 columns</p>\n</div>"
     },
     "execution_count": 115,
     "metadata": {},
     "output_type": "execute_result"
    }
   ],
   "source": [
    "final = prepare_stage3_dataset(panels, rules, targets)\n",
    "final = final.reset_index()\n",
    "final"
   ],
   "metadata": {
    "collapsed": false,
    "ExecuteTime": {
     "end_time": "2023-10-18T22:48:30.801583Z",
     "start_time": "2023-10-18T22:48:30.615850Z"
    }
   },
   "id": "fd809c93d6ddfc84"
  },
  {
   "cell_type": "code",
   "execution_count": 180,
   "outputs": [],
   "source": [
    "class AVRStage3Dataset(Dataset):\n",
    "    def __init__(self, dataset_dir, split):\n",
    "        super().__init__()\n",
    "        panels_df, rules_df, targets_df = extract_stage3_ground_truth(dataset_dir, split)\n",
    "        self.final_df = prepare_stage3_dataset(panels_df, rules_df, targets_df)\n",
    "        self.final_df = self.final_df.reset_index()\n",
    "        self.info_col = self.final_df.columns.tolist()[0]\n",
    "        self.panel_cols = self.final_df.columns.tolist()[1:-11]\n",
    "        self.rule_cols = self.final_df.columns.tolist()[-11:-1]\n",
    "        self.target_col = self.final_df.columns.tolist()[-1]\n",
    "        self.rule2id = {'Constant': 0, 'Distribute_Three': 1, 'Progression': 2, 'Arithmetic': 3, -1: -1}\n",
    "    \n",
    "    def __len__(self):\n",
    "        return len(self.final_df)\n",
    "    \n",
    "    def __getitem__(self, idx):\n",
    "        data = self.final_df.iloc[idx]\n",
    "\n",
    "        info = data[self.info_col]\n",
    "\n",
    "        panels = torch.split(torch.tensor(data[self.panel_cols].values.astype(np.int64)), 22 * 3)\n",
    "        reshaped_panels = list(torch.stack(torch.split(p, 3)) for p in panels)\n",
    "        panel_features = torch.stack(reshaped_panels)\n",
    "        \n",
    "        rules = data[self.rule_cols].replace(np.nan, -1).map(self.rule2id).to_dict()\n",
    "        for key, val, in rules.items():\n",
    "            rules[key] = torch.tensor(val)\n",
    "\n",
    "        return {\n",
    "            'info': info,\n",
    "            'panels': panel_features,\n",
    "            'rules': rules,\n",
    "            'target': data[self.target_col]\n",
    "        }"
   ],
   "metadata": {
    "collapsed": false,
    "ExecuteTime": {
     "end_time": "2023-10-19T01:38:03.064387Z",
     "start_time": "2023-10-19T01:38:03.054123Z"
    }
   },
   "id": "b35f57b842b2d006"
  },
  {
   "cell_type": "code",
   "execution_count": null,
   "outputs": [],
   "source": [],
   "metadata": {
    "collapsed": false
   },
   "id": "264ba9dc71982b69"
  },
  {
   "cell_type": "code",
   "execution_count": 181,
   "outputs": [],
   "source": [
    "dataset = AVRStage3Dataset('dataset', 'train')"
   ],
   "metadata": {
    "collapsed": false,
    "ExecuteTime": {
     "end_time": "2023-10-19T01:38:14.387271Z",
     "start_time": "2023-10-19T01:38:05.784117Z"
    }
   },
   "id": "b8889e89321d2b7e"
  },
  {
   "cell_type": "code",
   "execution_count": null,
   "outputs": [],
   "source": [],
   "metadata": {
    "collapsed": false
   },
   "id": "afcc1a5323379e4f"
  },
  {
   "cell_type": "code",
   "execution_count": null,
   "outputs": [],
   "source": [],
   "metadata": {
    "collapsed": false
   },
   "id": "356d49439e625af6"
  },
  {
   "cell_type": "code",
   "execution_count": 230,
   "outputs": [],
   "source": [
    "class Stage3RelNet(nn.Module):\n",
    "    def __init__(self, mlp_hidden, classes=8):\n",
    "        super().__init__()\n",
    "        self.n_concat = 3 * 3 + 10\n",
    "        self.g = nn.Sequential(\n",
    "            nn.Linear(self.n_concat, mlp_hidden),\n",
    "            nn.ReLU(),\n",
    "            nn.Linear(mlp_hidden, mlp_hidden),\n",
    "            nn.ReLU(),\n",
    "            nn.Linear(mlp_hidden, mlp_hidden),\n",
    "            nn.ReLU(),\n",
    "            nn.Linear(mlp_hidden, mlp_hidden),\n",
    "            nn.ReLU(),\n",
    "        )\n",
    "\n",
    "        self.f = nn.Sequential(\n",
    "            nn.Linear(mlp_hidden, mlp_hidden),\n",
    "            nn.ReLU(),\n",
    "            nn.Linear(mlp_hidden, mlp_hidden),\n",
    "            nn.ReLU(),\n",
    "            nn.Dropout(),\n",
    "            nn.Linear(mlp_hidden, 1),\n",
    "        )\n",
    "        \n",
    "    def forward(self, x_panels, x_rules):\n",
    "        context1, context2 = x_panels[:, 0, :, :], x_panels[:, 1, :, :]\n",
    "        candidate1, candidate2, candidate3, candidate4, candidate5, candidate6, candidate7, candidate8 = x_panels[:, 2, :, :], x_panels[:, 3, :, :], x_panels[:, 4, :, :], x_panels[:, 5, :, :], x_panels[:, 6, :, :], x_panels[:, 7, :, :], x_panels[:, 8, :, :], x_panels[:, 9, :, :]\n",
    "        \n",
    "        context1_repeated = torch.repeat_interleave(context1, 22*22, dim=1)\n",
    "        context2_repeated = torch.repeat_interleave(context2, 22, dim=1).repeat(1, 22, 1)\n",
    "        \n",
    "        c1_repeated = candidate1.repeat(1, 22*22, 1)\n",
    "        c2_repeated = candidate2.repeat(1, 22*22, 1)\n",
    "        c3_repeated = candidate3.repeat(1, 22*22, 1)\n",
    "        c4_repeated = candidate4.repeat(1, 22*22, 1)\n",
    "        c5_repeated = candidate5.repeat(1, 22*22, 1)\n",
    "        c6_repeated = candidate6.repeat(1, 22*22, 1)\n",
    "        c7_repeated = candidate7.repeat(1, 22*22, 1)\n",
    "        c8_repeated = candidate8.repeat(1, 22*22, 1)\n",
    "        \n",
    "        batch_rules = torch.stack(list(x_rules.values())).T\n",
    "        rules_repeated = batch_rules.unsqueeze(dim=1).repeat(1, 22*22*22, 1)\n",
    "        \n",
    "        final_c1 = torch.cat([context1_repeated, context2_repeated, c1_repeated, rules_repeated], dim=2).float()\n",
    "        final_c2 = torch.cat([context1_repeated, context2_repeated, c2_repeated, rules_repeated], dim=2).float()\n",
    "        final_c3 = torch.cat([context1_repeated, context2_repeated, c3_repeated, rules_repeated], dim=2).float()\n",
    "        final_c4 = torch.cat([context1_repeated, context2_repeated, c4_repeated, rules_repeated], dim=2).float()\n",
    "        final_c5 = torch.cat([context1_repeated, context2_repeated, c5_repeated, rules_repeated], dim=2).float()\n",
    "        final_c6 = torch.cat([context1_repeated, context2_repeated, c6_repeated, rules_repeated], dim=2).float()\n",
    "        final_c7 = torch.cat([context1_repeated, context2_repeated, c7_repeated, rules_repeated], dim=2).float()\n",
    "        final_c8 = torch.cat([context1_repeated, context2_repeated, c8_repeated, rules_repeated], dim=2).float()\n",
    "        \n",
    "        g_c1 = self.g(final_c1)\n",
    "        g_c2 = self.g(final_c2)\n",
    "        g_c3 = self.g(final_c3)\n",
    "        g_c4 = self.g(final_c4)\n",
    "        g_c5 = self.g(final_c5)\n",
    "        g_c6 = self.g(final_c6)\n",
    "        g_c7 = self.g(final_c7)\n",
    "        g_c8 = self.g(final_c8)\n",
    "        \n",
    "        g_c1_sum = g_c1.sum(1).squeeze()\n",
    "        \n",
    "        f_c1 = self.f(g_c1_sum)\n",
    "        \n",
    "        return f_c1"
   ],
   "metadata": {
    "collapsed": false,
    "ExecuteTime": {
     "end_time": "2023-10-19T01:57:59.239834Z",
     "start_time": "2023-10-19T01:57:59.236542Z"
    }
   },
   "id": "a168a413d8e70884"
  },
  {
   "cell_type": "code",
   "execution_count": null,
   "outputs": [],
   "source": [
    "class RelationNet(nn.Module):\n",
    "    def __init__(\n",
    "        self,\n",
    "        mlp_hidden=64,\n",
    "        classes=4,\n",
    "    ):\n",
    "        super().__init__()\n",
    "\n",
    "        self.n_concat = 9\n",
    "\n",
    "        self.g = nn.Sequential(\n",
    "            nn.Linear(self.n_concat, mlp_hidden),\n",
    "            nn.ReLU(),\n",
    "            nn.Linear(mlp_hidden, mlp_hidden),\n",
    "            nn.ReLU(),\n",
    "            nn.Linear(mlp_hidden, mlp_hidden),\n",
    "            nn.ReLU(),\n",
    "            nn.Linear(mlp_hidden, mlp_hidden),\n",
    "            nn.ReLU(),\n",
    "        )\n",
    "\n",
    "        def get_head():\n",
    "            return nn.Sequential(\n",
    "            nn.Linear(mlp_hidden, mlp_hidden),\n",
    "            nn.ReLU(),\n",
    "            nn.Linear(mlp_hidden, mlp_hidden),\n",
    "            nn.ReLU(),\n",
    "            nn.Dropout(),\n",
    "            nn.Linear(mlp_hidden, classes),\n",
    "        )\n",
    "\n",
    "        self.mlp_hidden = mlp_hidden\n",
    "\n",
    "        self.f_num = get_head()\n",
    "        self.f_pos = get_head()\n",
    "        self.f_type = get_head()\n",
    "        self.f_size = get_head()\n",
    "        self.f_color = get_head()\n",
    "\n",
    "\n",
    "    def forward(self, x):\n",
    "        x1, x2, x3, x4, x5, x6 = x[:, 0, :, :], x[:, 1, :, :], x[:, 2, :, :], x[:, 3, :, :], x[:, 4, :, :], x[:, 5, :, :]\n",
    "\n",
    "        # xi.shape is [nbatch, nrow, ncol]\n",
    "        x1_repeated = torch.repeat_interleave(x1, 22*22, dim=1)\n",
    "        x2_repeated = torch.repeat_interleave(x2, 22, dim=1).repeat(1, 22, 1)\n",
    "        x3_repeated = x3.repeat(1, 22*22, 1)\n",
    "        x_row1 = torch.cat([x1_repeated, x2_repeated, x3_repeated], dim=2).float()\n",
    "\n",
    "        x4_repeated = torch.repeat_interleave(x4, 22*22, dim=1)\n",
    "        x5_repeated = torch.repeat_interleave(x5, 22, dim=1).repeat(1, 22, 1)\n",
    "        x6_repeated = x6.repeat(1, 22*22, 1)\n",
    "        x_row2 = torch.cat([x4_repeated, x5_repeated, x6_repeated], dim=2).float()\n",
    "\n",
    "        g_row1 = self.g(x_row1)\n",
    "        g_row2 = self.g(x_row2)\n",
    "        g_row1 = g_row1.view(-1, 22*22*22, self.mlp_hidden).sum(1).squeeze()\n",
    "        g_row2 = g_row2.view(-1, 22*22*22, self.mlp_hidden).sum(1).squeeze()\n",
    "\n",
    "        row1_num = self.f_num(g_row1)\n",
    "        row1_pos = self.f_pos(g_row1)\n",
    "        row1_type = self.f_type(g_row1)\n",
    "        row1_size = self.f_size(g_row1)\n",
    "        row1_color = self.f_color(g_row1)\n",
    "\n",
    "        row2_num = self.f_num(g_row2)\n",
    "        row2_pos = self.f_pos(g_row2)\n",
    "        row2_type = self.f_type(g_row2)\n",
    "        row2_size = self.f_size(g_row2)\n",
    "        row2_color = self.f_color(g_row2)\n",
    "\n",
    "        predictions = {\n",
    "            'number': (row1_num + row2_num) / 2,\n",
    "            'position': (row1_pos + row2_pos) / 2,\n",
    "            'type': (row1_type + row2_type) / 2,\n",
    "            'size': (row1_size + row2_size) / 2,\n",
    "            'color': (row1_color + row2_color) / 2,\n",
    "        }\n",
    "\n",
    "        return predictions"
   ],
   "metadata": {
    "collapsed": false
   },
   "id": "a26f537699d58521"
  },
  {
   "cell_type": "code",
   "execution_count": null,
   "outputs": [],
   "source": [],
   "metadata": {
    "collapsed": false
   },
   "id": "2c16e43dce18b9c3"
  },
  {
   "cell_type": "code",
   "execution_count": 231,
   "outputs": [],
   "source": [
    "rn = Stage3RelNet(64)"
   ],
   "metadata": {
    "collapsed": false,
    "ExecuteTime": {
     "end_time": "2023-10-19T01:58:02.485322Z",
     "start_time": "2023-10-19T01:58:02.472986Z"
    }
   },
   "id": "732567db7f0a8ba3"
  },
  {
   "cell_type": "code",
   "execution_count": 232,
   "outputs": [],
   "source": [
    "z = rn(a['panels'], a['rules'])"
   ],
   "metadata": {
    "collapsed": false,
    "ExecuteTime": {
     "end_time": "2023-10-19T01:58:03.400006Z",
     "start_time": "2023-10-19T01:58:02.606074Z"
    }
   },
   "id": "76c41599188758c2"
  },
  {
   "cell_type": "code",
   "execution_count": 233,
   "outputs": [
    {
     "data": {
      "text/plain": "torch.Size([16, 1])"
     },
     "execution_count": 233,
     "metadata": {},
     "output_type": "execute_result"
    }
   ],
   "source": [
    "z.shape"
   ],
   "metadata": {
    "collapsed": false,
    "ExecuteTime": {
     "end_time": "2023-10-19T01:58:08.423145Z",
     "start_time": "2023-10-19T01:58:08.412059Z"
    }
   },
   "id": "7c92e9074b730ece"
  },
  {
   "cell_type": "code",
   "execution_count": null,
   "outputs": [],
   "source": [],
   "metadata": {
    "collapsed": false
   },
   "id": "d947f999d25bc0c0"
  },
  {
   "cell_type": "code",
   "execution_count": 151,
   "outputs": [],
   "source": [
    "dataset = AVRStage3Dataset('dataset', 'train')"
   ],
   "metadata": {
    "collapsed": false,
    "ExecuteTime": {
     "end_time": "2023-10-19T01:19:51.202282Z",
     "start_time": "2023-10-19T01:19:42.555051Z"
    }
   },
   "id": "a50d67fe7398e61f"
  },
  {
   "cell_type": "code",
   "execution_count": 182,
   "outputs": [],
   "source": [
    "train_loader = DataLoader(dataset, 16, shuffle=True)"
   ],
   "metadata": {
    "collapsed": false,
    "ExecuteTime": {
     "end_time": "2023-10-19T01:38:29.393705Z",
     "start_time": "2023-10-19T01:38:29.381680Z"
    }
   },
   "id": "2642544cab87590b"
  },
  {
   "cell_type": "code",
   "execution_count": 183,
   "outputs": [],
   "source": [
    "a = next(iter(train_loader))"
   ],
   "metadata": {
    "collapsed": false,
    "ExecuteTime": {
     "end_time": "2023-10-19T01:38:30.564484Z",
     "start_time": "2023-10-19T01:38:30.533447Z"
    }
   },
   "id": "474dbda1aa0c1ce6"
  },
  {
   "cell_type": "code",
   "execution_count": 184,
   "outputs": [
    {
     "data": {
      "text/plain": "{'component0_number': tensor([ 0,  0,  0,  0,  0, -1,  0,  0,  3,  0, -1,  3, -1, -1,  0,  1]),\n 'component0_position': tensor([ 0,  0,  0,  0,  0, -1,  0,  0,  3,  0, -1,  3, -1, -1,  0,  1]),\n 'component0_type': tensor([ 2,  1,  0,  2,  0, -1,  2,  0,  0,  0, -1,  2, -1, -1,  2,  0]),\n 'component0_size': tensor([ 3,  2,  0,  1,  1, -1,  0,  1,  1,  1, -1,  2, -1, -1,  2,  0]),\n 'component0_color': tensor([ 3,  3,  1,  1,  0, -1,  3,  3,  2,  0, -1,  1, -1, -1,  3,  2]),\n 'component1_number': tensor([-1, -1, -1, -1, -1,  0, -1, -1, -1, -1,  0, -1,  3,  3, -1, -1]),\n 'component1_position': tensor([-1, -1, -1, -1, -1,  0, -1, -1, -1, -1,  0, -1,  3,  3, -1, -1]),\n 'component1_type': tensor([-1, -1, -1, -1, -1,  2, -1, -1, -1, -1,  2, -1,  1,  0, -1, -1]),\n 'component1_size': tensor([-1, -1, -1, -1, -1,  1, -1, -1, -1, -1,  1, -1,  1,  1, -1, -1]),\n 'component1_color': tensor([-1, -1, -1, -1, -1,  3, -1, -1, -1, -1,  0, -1,  2,  3, -1, -1])}"
     },
     "execution_count": 184,
     "metadata": {},
     "output_type": "execute_result"
    }
   ],
   "source": [
    "a['rules']"
   ],
   "metadata": {
    "collapsed": false,
    "ExecuteTime": {
     "end_time": "2023-10-19T01:38:31.496694Z",
     "start_time": "2023-10-19T01:38:31.493250Z"
    }
   },
   "id": "cde6fffca1398535"
  },
  {
   "cell_type": "code",
   "execution_count": 179,
   "outputs": [
    {
     "data": {
      "text/plain": "{'info': ['dataset/distribute_nine/RAVEN_154_train',\n  'dataset/distribute_four/RAVEN_651_train',\n  'dataset/distribute_four/RAVEN_630_train',\n  'dataset/in_distribute_four_out_center_single/RAVEN_182_train',\n  'dataset/distribute_four/RAVEN_140_train',\n  'dataset/in_center_single_out_center_single/RAVEN_192_train',\n  'dataset/in_distribute_four_out_center_single/RAVEN_302_train',\n  'dataset/in_distribute_four_out_center_single/RAVEN_522_train',\n  'dataset/distribute_four/RAVEN_110_train',\n  'dataset/in_distribute_four_out_center_single/RAVEN_220_train',\n  'dataset/in_distribute_four_out_center_single/RAVEN_513_train',\n  'dataset/left_center_single_right_center_single/RAVEN_911_train',\n  'dataset/up_center_single_down_center_single/RAVEN_974_train',\n  'dataset/left_center_single_right_center_single/RAVEN_44_train',\n  'dataset/in_distribute_four_out_center_single/RAVEN_355_train',\n  'dataset/up_center_single_down_center_single/RAVEN_101_train'],\n 'panels': tensor([[[[ 9,  0,  3],\n           [-1, -1, -1],\n           [-1, -1, -1],\n           ...,\n           [-1, -1, -1],\n           [-1, -1, -1],\n           [-1, -1, -1]],\n \n          [[-1, -1, -1],\n           [-1, -1, -1],\n           [-1, -1, -1],\n           ...,\n           [-1, -1, -1],\n           [-1, -1, -1],\n           [-1, -1, -1]],\n \n          [[ 5,  4,  1],\n           [-1, -1, -1],\n           [-1, -1, -1],\n           ...,\n           [-1, -1, -1],\n           [-1, -1, -1],\n           [-1, -1, -1]],\n \n          ...,\n \n          [[-1, -1, -1],\n           [-1, -1, -1],\n           [-1, -1, -1],\n           ...,\n           [-1, -1, -1],\n           [-1, -1, -1],\n           [-1, -1, -1]],\n \n          [[ 5,  0,  1],\n           [-1, -1, -1],\n           [-1, -1, -1],\n           ...,\n           [-1, -1, -1],\n           [-1, -1, -1],\n           [-1, -1, -1]],\n \n          [[ 7,  0,  1],\n           [-1, -1, -1],\n           [-1, -1, -1],\n           ...,\n           [-1, -1, -1],\n           [-1, -1, -1],\n           [-1, -1, -1]]],\n \n \n         [[[-1, -1, -1],\n           [-1, -1, -1],\n           [-1, -1, -1],\n           ...,\n           [-1, -1, -1],\n           [ 0,  4,  1],\n           [ 0,  1,  1]],\n \n          [[-1, -1, -1],\n           [-1, -1, -1],\n           [-1, -1, -1],\n           ...,\n           [-1, -1, -1],\n           [ 1,  4,  5],\n           [-1, -1, -1]],\n \n          [[-1, -1, -1],\n           [-1, -1, -1],\n           [-1, -1, -1],\n           ...,\n           [-1, -1, -1],\n           [-1, -1, -1],\n           [ 9,  5,  4]],\n \n          ...,\n \n          [[-1, -1, -1],\n           [-1, -1, -1],\n           [-1, -1, -1],\n           ...,\n           [-1, -1, -1],\n           [-1, -1, -1],\n           [ 8,  5,  4]],\n \n          [[-1, -1, -1],\n           [-1, -1, -1],\n           [ 8,  5,  4],\n           ...,\n           [-1, -1, -1],\n           [-1, -1, -1],\n           [-1, -1, -1]],\n \n          [[-1, -1, -1],\n           [-1, -1, -1],\n           [-1, -1, -1],\n           ...,\n           [-1, -1, -1],\n           [ 9,  5,  4],\n           [-1, -1, -1]]],\n \n \n         [[[-1, -1, -1],\n           [-1, -1, -1],\n           [ 1,  1,  1],\n           ...,\n           [-1, -1, -1],\n           [ 1,  1,  1],\n           [-1, -1, -1]],\n \n          [[-1, -1, -1],\n           [-1, -1, -1],\n           [ 6,  0,  3],\n           ...,\n           [-1, -1, -1],\n           [-1, -1, -1],\n           [-1, -1, -1]],\n \n          [[-1, -1, -1],\n           [-1, -1, -1],\n           [-1, -1, -1],\n           ...,\n           [-1, -1, -1],\n           [-1, -1, -1],\n           [ 9,  0,  5]],\n \n          ...,\n \n          [[-1, -1, -1],\n           [-1, -1, -1],\n           [-1, -1, -1],\n           ...,\n           [-1, -1, -1],\n           [-1, -1, -1],\n           [ 4,  0,  5]],\n \n          [[-1, -1, -1],\n           [-1, -1, -1],\n           [-1, -1, -1],\n           ...,\n           [-1, -1, -1],\n           [-1, -1, -1],\n           [-1, -1, -1]],\n \n          [[-1, -1, -1],\n           [-1, -1, -1],\n           [-1, -1, -1],\n           ...,\n           [-1, -1, -1],\n           [ 4,  0,  5],\n           [-1, -1, -1]]],\n \n \n         ...,\n \n \n         [[[-1, -1, -1],\n           [-1, -1, -1],\n           [-1, -1, -1],\n           ...,\n           [-1, -1, -1],\n           [-1, -1, -1],\n           [-1, -1, -1]],\n \n          [[-1, -1, -1],\n           [-1, -1, -1],\n           [-1, -1, -1],\n           ...,\n           [-1, -1, -1],\n           [-1, -1, -1],\n           [-1, -1, -1]],\n \n          [[-1, -1, -1],\n           [-1, -1, -1],\n           [-1, -1, -1],\n           ...,\n           [-1, -1, -1],\n           [-1, -1, -1],\n           [-1, -1, -1]],\n \n          ...,\n \n          [[-1, -1, -1],\n           [-1, -1, -1],\n           [-1, -1, -1],\n           ...,\n           [-1, -1, -1],\n           [-1, -1, -1],\n           [-1, -1, -1]],\n \n          [[-1, -1, -1],\n           [-1, -1, -1],\n           [-1, -1, -1],\n           ...,\n           [-1, -1, -1],\n           [-1, -1, -1],\n           [-1, -1, -1]],\n \n          [[-1, -1, -1],\n           [-1, -1, -1],\n           [-1, -1, -1],\n           ...,\n           [-1, -1, -1],\n           [-1, -1, -1],\n           [-1, -1, -1]]],\n \n \n         [[[-1, -1, -1],\n           [ 4,  4,  3],\n           [-1, -1, -1],\n           ...,\n           [-1, -1, -1],\n           [-1, -1, -1],\n           [-1, -1, -1]],\n \n          [[-1, -1, -1],\n           [ 1,  5,  3],\n           [-1, -1, -1],\n           ...,\n           [-1, -1, -1],\n           [-1, -1, -1],\n           [-1, -1, -1]],\n \n          [[-1, -1, -1],\n           [-1, -1, -1],\n           [-1, -1, -1],\n           ...,\n           [-1, -1, -1],\n           [-1, -1, -1],\n           [-1, -1, -1]],\n \n          ...,\n \n          [[-1, -1, -1],\n           [-1, -1, -1],\n           [-1, -1, -1],\n           ...,\n           [-1, -1, -1],\n           [-1, -1, -1],\n           [-1, -1, -1]],\n \n          [[-1, -1, -1],\n           [-1, -1, -1],\n           [-1, -1, -1],\n           ...,\n           [-1, -1, -1],\n           [-1, -1, -1],\n           [-1, -1, -1]],\n \n          [[-1, -1, -1],\n           [-1, -1, -1],\n           [-1, -1, -1],\n           ...,\n           [-1, -1, -1],\n           [-1, -1, -1],\n           [-1, -1, -1]]],\n \n \n         [[[-1, -1, -1],\n           [-1, -1, -1],\n           [-1, -1, -1],\n           ...,\n           [ 6,  4,  5],\n           [-1, -1, -1],\n           [-1, -1, -1]],\n \n          [[-1, -1, -1],\n           [-1, -1, -1],\n           [-1, -1, -1],\n           ...,\n           [ 6,  2,  5],\n           [-1, -1, -1],\n           [-1, -1, -1]],\n \n          [[-1, -1, -1],\n           [-1, -1, -1],\n           [-1, -1, -1],\n           ...,\n           [ 6,  0,  5],\n           [-1, -1, -1],\n           [-1, -1, -1]],\n \n          ...,\n \n          [[-1, -1, -1],\n           [-1, -1, -1],\n           [-1, -1, -1],\n           ...,\n           [ 6,  0,  3],\n           [-1, -1, -1],\n           [-1, -1, -1]],\n \n          [[-1, -1, -1],\n           [-1, -1, -1],\n           [-1, -1, -1],\n           ...,\n           [ 6,  0,  5],\n           [-1, -1, -1],\n           [-1, -1, -1]],\n \n          [[-1, -1, -1],\n           [-1, -1, -1],\n           [-1, -1, -1],\n           ...,\n           [ 6,  0,  3],\n           [-1, -1, -1],\n           [-1, -1, -1]]]]),\n 'rules': {'component0_number': tensor([ 1,  3,  1,  0,  3, -1, -1,  0,  0, -1, -1, -1, -1,  0, -1, -1]),\n  'component0_position': tensor([ 1,  3,  1,  0,  3, -1, -1,  0,  0, -1, -1, -1, -1,  0, -1, -1]),\n  'component0_type': tensor([ 1,  1,  2,  2,  0, -1, -1,  2,  1, -1, -1, -1, -1,  1, -1, -1]),\n  'component0_size': tensor([ 2,  0,  3,  1,  2, -1, -1,  1,  2, -1, -1, -1, -1,  2, -1, -1]),\n  'component0_color': tensor([ 2,  1,  1,  0,  0, -1, -1,  0,  3, -1, -1, -1, -1,  3, -1, -1]),\n  'component1_number': tensor([-1, -1, -1, -1, -1,  0,  3, -1, -1,  0,  2,  0,  0, -1,  3,  0]),\n  'component1_position': tensor([-1, -1, -1, -1, -1,  0,  3, -1, -1,  0,  2,  0,  0, -1,  3,  0]),\n  'component1_type': tensor([-1, -1, -1, -1, -1,  2,  0, -1, -1,  1,  0,  2,  1, -1,  0,  2]),\n  'component1_size': tensor([-1, -1, -1, -1, -1,  0,  3, -1, -1,  3,  0,  3,  2, -1,  1,  0]),\n  'component1_color': tensor([-1, -1, -1, -1, -1,  0,  3, -1, -1,  2,  1,  0,  0, -1,  1,  2])},\n 'target': tensor([1, 0, 1, 4, 4, 7, 0, 4, 1, 3, 4, 6, 2, 1, 0, 1])}"
     },
     "execution_count": 179,
     "metadata": {},
     "output_type": "execute_result"
    }
   ],
   "source": [
    "a"
   ],
   "metadata": {
    "collapsed": false,
    "ExecuteTime": {
     "end_time": "2023-10-19T01:37:42.204435Z",
     "start_time": "2023-10-19T01:37:42.193112Z"
    }
   },
   "id": "5e8b80495fb605c0"
  },
  {
   "cell_type": "code",
   "execution_count": 164,
   "outputs": [],
   "source": [
    "b = torch.stack(list(a['rules'].values())).T"
   ],
   "metadata": {
    "collapsed": false,
    "ExecuteTime": {
     "end_time": "2023-10-19T01:32:51.633595Z",
     "start_time": "2023-10-19T01:32:51.630599Z"
    }
   },
   "id": "b6770aa2cd288cdd"
  },
  {
   "cell_type": "code",
   "execution_count": 165,
   "outputs": [
    {
     "data": {
      "text/plain": "torch.Size([16, 10])"
     },
     "execution_count": 165,
     "metadata": {},
     "output_type": "execute_result"
    }
   ],
   "source": [
    "b.shape"
   ],
   "metadata": {
    "collapsed": false,
    "ExecuteTime": {
     "end_time": "2023-10-19T01:32:53.966586Z",
     "start_time": "2023-10-19T01:32:53.939037Z"
    }
   },
   "id": "6b3765244f510f5e"
  },
  {
   "cell_type": "code",
   "execution_count": 170,
   "outputs": [
    {
     "data": {
      "text/plain": "torch.Size([16, 10648, 10])"
     },
     "execution_count": 170,
     "metadata": {},
     "output_type": "execute_result"
    }
   ],
   "source": [
    "b.unsqueeze(dim=1).repeat(1, 22*22*22, 1).shape"
   ],
   "metadata": {
    "collapsed": false,
    "ExecuteTime": {
     "end_time": "2023-10-19T01:34:44.126032Z",
     "start_time": "2023-10-19T01:34:44.119374Z"
    }
   },
   "id": "4f3ecc975e0bac8a"
  },
  {
   "cell_type": "code",
   "execution_count": 168,
   "outputs": [
    {
     "data": {
      "text/plain": "10648"
     },
     "execution_count": 168,
     "metadata": {},
     "output_type": "execute_result"
    }
   ],
   "source": [
    "22*22*22"
   ],
   "metadata": {
    "collapsed": false,
    "ExecuteTime": {
     "end_time": "2023-10-19T01:34:32.685814Z",
     "start_time": "2023-10-19T01:34:32.657573Z"
    }
   },
   "id": "d7ac135217d35bab"
  },
  {
   "cell_type": "code",
   "execution_count": null,
   "outputs": [],
   "source": [],
   "metadata": {
    "collapsed": false
   },
   "id": "60a9850c0585a418"
  }
 ],
 "metadata": {
  "kernelspec": {
   "display_name": "Python 3",
   "language": "python",
   "name": "python3"
  },
  "language_info": {
   "codemirror_mode": {
    "name": "ipython",
    "version": 2
   },
   "file_extension": ".py",
   "mimetype": "text/x-python",
   "name": "python",
   "nbconvert_exporter": "python",
   "pygments_lexer": "ipython2",
   "version": "2.7.6"
  }
 },
 "nbformat": 4,
 "nbformat_minor": 5
}
