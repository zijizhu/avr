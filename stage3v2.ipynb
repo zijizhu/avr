{
 "cells": [
  {
   "cell_type": "code",
   "execution_count": 32,
   "id": "4b96addf-53e9-4800-b533-c376ef6596c3",
   "metadata": {},
   "outputs": [],
   "source": [
    "import os\n",
    "import json\n",
    "import torch\n",
    "import numpy as np\n",
    "import pandas as pd\n",
    "from pprint import pprint\n",
    "from torch.utils.data import Dataset\n",
    "from itertools import product\n",
    "import xml.etree.ElementTree as ET\n",
    "from pathlib import Path\n",
    "\n",
    "from utils import parse_rules, parse_panels, bbox_to_xyxy, plot_example\n",
    "from avr_dataset import (\n",
    "    extract_stage3_ground_truth,\n",
    "    prepare_stage3_dataset\n",
    ")\n",
    "\n",
    "import torch\n",
    "from torch import nn\n",
    "import torch.nn.functional as F\n",
    "from torch.utils.data import DataLoader\n",
    "\n",
    "from collections import Counter\n",
    "from tqdm import tqdm\n",
    "from torch import optim\n",
    "from torch.optim.lr_scheduler import StepLR"
   ]
  },
  {
   "cell_type": "code",
   "execution_count": 120,
   "id": "84da8c04-491c-40ed-8747-b5cadc1a5112",
   "metadata": {},
   "outputs": [],
   "source": [
    "def prepare_stage3_dataset(panels_df: pd.DataFrame, rules_df: pd.DataFrame | None, target_df: pd.DataFrame, all_panels=True):\n",
    "    panels_df_copy = panels_df.copy()\n",
    "    reshaped_indices = ['file', 'component', 'panel']\n",
    "\n",
    "    reshaped_panels_df = panels_df_copy.set_index(reshaped_indices).unstack(level=-1)\n",
    "    reshaped_panels_df.columns.names = ['slot_attr', 'panel']\n",
    "    reshaped_panels_df.columns = reshaped_panels_df.columns.swaplevel(0, 1)\n",
    "    reshaped_panels_df = reshaped_panels_df.sort_index(axis=1, level=0)\n",
    "\n",
    "    index_tuples = []\n",
    "    panel_idx_range = range(16) if all_panels else range(6, 16)\n",
    "    for panel_idx, slot_idx, attr in list(product(panel_idx_range,\n",
    "                                                  range(0, 22),\n",
    "                                                  ['color', 'size', 'type'])):\n",
    "        index_tuples.append((panel_idx, f'slot{slot_idx}_{attr}'))\n",
    "    multi_index = pd.MultiIndex.from_tuples(index_tuples, names=['panel', 'slot_attr'])\n",
    "    reshaped_panels_df = pd.DataFrame(reshaped_panels_df, columns=multi_index)\n",
    "\n",
    "    reshaped_panels_df.columns = reshaped_panels_df.columns.map(lambda x: 'panel' + '_'.join(list(map(str, x))))\n",
    "    reshaped_panels_df = reshaped_panels_df.groupby('file').max()\n",
    "\n",
    "    if rules_df is not None:\n",
    "        rules_df = rules_df.rename(columns={'file_path': 'file'})\n",
    "        rules_df = rules_df.set_index(['file'])\n",
    "\n",
    "        final_df = reshaped_panels_df.join(rules_df).join(target_df.set_index(['file']))\n",
    "    else:\n",
    "        final_df = reshaped_panels_df.join(target_df.set_index(['file']))\n",
    "\n",
    "    return final_df"
   ]
  },
  {
   "cell_type": "code",
   "execution_count": 4,
   "id": "6ef6731d-2cd7-4560-927e-6339e2d2957e",
   "metadata": {},
   "outputs": [],
   "source": [
    "class AVRStage3DatasetV2(Dataset):\n",
    "    def __init__(self, dataset_dir, split):\n",
    "        super().__init__()\n",
    "        panels_df, rules_df, targets_df = extract_stage3_ground_truth(dataset_dir, split, all_panels=True)\n",
    "        self.final_df = prepare_stage3_dataset(panels_df, None, targets_df, all_panels=True)\n",
    "        self.final_df = self.final_df.reset_index()\n",
    "        self.info_col = self.final_df.columns.tolist()[0]\n",
    "        self.panel_cols = self.final_df.columns.tolist()[1:-1]\n",
    "        self.target_col = self.final_df.columns.tolist()[-1]\n",
    "        self.rule2id = {'Constant': 0, 'Distribute_Three': 1, 'Progression': 2, 'Arithmetic': 3, -1: -1}\n",
    "    \n",
    "    def __len__(self):\n",
    "        return len(self.final_df)\n",
    "    \n",
    "    def __getitem__(self, idx):\n",
    "        data = self.final_df.iloc[idx]\n",
    "\n",
    "        info = data[self.info_col]\n",
    "\n",
    "        panels = torch.split(torch.tensor(data[self.panel_cols].values.astype(np.int64)), 22 * 3)\n",
    "        # reshaped_panels = list(torch.stack(torch.split(p, 3)) for p in panels)\n",
    "        panel_features = torch.stack(panels)\n",
    "\n",
    "        return {\n",
    "            'info': info,\n",
    "            'panels': panel_features,\n",
    "            'target': torch.tensor(data[self.target_col])\n",
    "        }"
   ]
  },
  {
   "cell_type": "code",
   "execution_count": 5,
   "id": "7e610c55-63b2-4c27-94bc-5f752cb93f67",
   "metadata": {},
   "outputs": [],
   "source": [
    "dataset = AVRStage3DatasetV2('dataset', 'train')\n",
    "dataloader = DataLoader(dataset, 32, shuffle=True)"
   ]
  },
  {
   "cell_type": "code",
   "execution_count": 6,
   "id": "5a689de4-781e-49b5-8bbb-383146b2f83d",
   "metadata": {},
   "outputs": [],
   "source": [
    "a = next(iter(dataloader))"
   ]
  },
  {
   "cell_type": "code",
   "execution_count": null,
   "id": "eabffca2-2b7b-4cd1-8e6e-6d7afa4268e4",
   "metadata": {},
   "outputs": [],
   "source": []
  },
  {
   "cell_type": "code",
   "execution_count": 9,
   "id": "94c611e8-2a1b-4685-ad9c-f589f7101442",
   "metadata": {},
   "outputs": [
    {
     "data": {
      "text/plain": [
       "torch.Size([32, 16, 66])"
      ]
     },
     "execution_count": 9,
     "metadata": {},
     "output_type": "execute_result"
    }
   ],
   "source": [
    "a['panels'].shape"
   ]
  },
  {
   "cell_type": "code",
   "execution_count": null,
   "id": "77e0a1ef-6f92-4b35-94b8-6dc3b9cadeea",
   "metadata": {},
   "outputs": [],
   "source": []
  },
  {
   "cell_type": "code",
   "execution_count": 26,
   "id": "ec27b57e-3191-4374-9bce-abc60a5595c0",
   "metadata": {},
   "outputs": [],
   "source": [
    "class Stage3RelNetV2(nn.Module):\n",
    "    def __init__(self, mlp_hidden=64, classes=8, n_candidates=8):\n",
    "        super().__init__()\n",
    "        self.n_concat = 22 * 3 * 2\n",
    "        self.mlp_hidden = mlp_hidden\n",
    "        self.n_candidates = n_candidates\n",
    "        \n",
    "        self.g = nn.Sequential(\n",
    "            nn.Linear(self.n_concat, mlp_hidden),\n",
    "            nn.ReLU(),\n",
    "            nn.Linear(mlp_hidden, mlp_hidden),\n",
    "            nn.ReLU(),\n",
    "            nn.Linear(mlp_hidden, mlp_hidden),\n",
    "            nn.ReLU(),\n",
    "            nn.Linear(mlp_hidden, mlp_hidden),\n",
    "            nn.ReLU(),\n",
    "        )\n",
    "\n",
    "        self.f = nn.Sequential(\n",
    "            nn.Linear(mlp_hidden, mlp_hidden),\n",
    "            nn.ReLU(),\n",
    "            nn.Linear(mlp_hidden, mlp_hidden),\n",
    "            nn.ReLU(),\n",
    "            nn.Dropout(),\n",
    "            nn.Linear(mlp_hidden, 1),\n",
    "            nn.Sigmoid(),\n",
    "        )\n",
    "\n",
    "    def forward(self, X):\n",
    "        X = X.float()\n",
    "        n_batch = X.size()[0]\n",
    "        contexts, candidates = X[:, :8, :], X[:, 8:, :]\n",
    "        contexts = contexts.unsqueeze(1).repeat(1, 8, 1, 1)\n",
    "        candidates = candidates.unsqueeze(1).permute(0, 2, 1, 3)\n",
    "\n",
    "        # Shape: (n_batch, n_candidates=8, n_panels=9, num_dim=22 * 3)\n",
    "        context_candidate_pairs = torch.cat([contexts, candidates], dim=2)\n",
    "\n",
    "        context_candidate_pairs1 = context_candidate_pairs.repeat_interleave(9, dim=2)\n",
    "        context_candidate_pairs2 = context_candidate_pairs.repeat(1, 1, 9, 1)\n",
    "\n",
    "        # Shape: (n_batch, n_candidates=8, n_pairs_per_candidate=9*9, num_dim=22 * 3)\n",
    "        context_candidate_concat = torch.cat([context_candidate_pairs1, context_candidate_pairs2], dim=3)\n",
    "\n",
    "        candidate_logits = torch.zeros((n_batch, self.n_candidates))\n",
    "        for i in range(self.n_candidates):\n",
    "            # Shape: (n_batch, n_pairs_per_candidate=9*9, num_dim=22 * 3)\n",
    "            all_pairs_candidate_i = context_candidate_concat[:, i, :, :]\n",
    "            n_pairs = all_pairs_candidate_i.shape[1]\n",
    "            # Shape: (n_batch, n_pairs_per_candidate=9*9, mlp_hidden)\n",
    "            g_res = torch.zeros((n_batch, n_pairs, self.mlp_hidden), dtype=torch.float)\n",
    "            for j in range(n_pairs):\n",
    "                candidate_i_pair_j = all_pairs_candidate_i[:, j, :]\n",
    "                g_ci_pj = self.g(candidate_i_pair_j)\n",
    "                g_res[:, j, :] = g_ci_pj\n",
    "            # Shape: (n_batch, mlp_hidden)\n",
    "            g_res_sum = torch.sum(g_res, dim=1)\n",
    "\n",
    "            # Shape: (n_batch)\n",
    "            f_res = self.f(g_res_sum)\n",
    "            candidate_logits[:, i] = f_res.squeeze(1)\n",
    "        return F.softmax(candidate_logits, dim=1)"
   ]
  },
  {
   "cell_type": "code",
   "execution_count": 27,
   "id": "c6ec57b2-10f3-4d72-b970-19cd976ff047",
   "metadata": {},
   "outputs": [],
   "source": [
    "net = Stage3RelNetV2()"
   ]
  },
  {
   "cell_type": "code",
   "execution_count": 28,
   "id": "9bf70537-e4fe-4958-b106-675331b6fe15",
   "metadata": {},
   "outputs": [
    {
     "data": {
      "text/plain": [
       "132"
      ]
     },
     "execution_count": 28,
     "metadata": {},
     "output_type": "execute_result"
    }
   ],
   "source": [
    "22*3*2"
   ]
  },
  {
   "cell_type": "code",
   "execution_count": 29,
   "id": "718fe3ef-3bad-472e-ac4c-8cef77189fab",
   "metadata": {},
   "outputs": [
    {
     "data": {
      "text/plain": [
       "tensor([[0.1283, 0.1067, 0.1372, 0.1329, 0.1176, 0.1115, 0.1213, 0.1445],\n",
       "        [0.1285, 0.1254, 0.1320, 0.1455, 0.1317, 0.1128, 0.1120, 0.1121],\n",
       "        [0.1239, 0.1147, 0.1382, 0.1114, 0.1468, 0.1285, 0.1426, 0.0939],\n",
       "        [0.1227, 0.1054, 0.1425, 0.1382, 0.1191, 0.1250, 0.1124, 0.1347],\n",
       "        [0.1374, 0.1364, 0.1200, 0.1252, 0.1369, 0.1096, 0.1231, 0.1115],\n",
       "        [0.1424, 0.1350, 0.1179, 0.1104, 0.1289, 0.1218, 0.1143, 0.1293],\n",
       "        [0.1435, 0.1004, 0.1057, 0.1375, 0.1321, 0.1402, 0.1183, 0.1224],\n",
       "        [0.1296, 0.1505, 0.1064, 0.1268, 0.1194, 0.1291, 0.1166, 0.1216],\n",
       "        [0.1237, 0.1185, 0.1488, 0.1213, 0.1263, 0.1250, 0.1149, 0.1215],\n",
       "        [0.1241, 0.1378, 0.1187, 0.1526, 0.1283, 0.1255, 0.1137, 0.0993],\n",
       "        [0.1244, 0.1152, 0.1387, 0.1349, 0.1004, 0.1243, 0.1183, 0.1437],\n",
       "        [0.1035, 0.1363, 0.1464, 0.1240, 0.1198, 0.1206, 0.1330, 0.1164],\n",
       "        [0.1061, 0.1210, 0.1296, 0.1356, 0.1331, 0.1234, 0.1396, 0.1116],\n",
       "        [0.1019, 0.1041, 0.1487, 0.1012, 0.1305, 0.1338, 0.1308, 0.1489],\n",
       "        [0.1219, 0.1170, 0.1219, 0.1139, 0.1368, 0.1368, 0.1273, 0.1243],\n",
       "        [0.1142, 0.1132, 0.1280, 0.1104, 0.1485, 0.0879, 0.1486, 0.1492],\n",
       "        [0.1075, 0.1164, 0.1118, 0.1262, 0.1469, 0.1292, 0.1229, 0.1393],\n",
       "        [0.1149, 0.1336, 0.1222, 0.1032, 0.1255, 0.1126, 0.1431, 0.1449],\n",
       "        [0.1173, 0.1459, 0.0994, 0.1435, 0.1116, 0.1362, 0.1076, 0.1385],\n",
       "        [0.1252, 0.1005, 0.1247, 0.1512, 0.1379, 0.1228, 0.1234, 0.1143],\n",
       "        [0.1278, 0.1458, 0.1311, 0.1154, 0.1019, 0.1221, 0.1136, 0.1423],\n",
       "        [0.1304, 0.1359, 0.1114, 0.1355, 0.1479, 0.1060, 0.1046, 0.1283],\n",
       "        [0.1110, 0.1334, 0.1215, 0.1076, 0.1191, 0.1368, 0.1372, 0.1334],\n",
       "        [0.1500, 0.1193, 0.1238, 0.1362, 0.1098, 0.1183, 0.1099, 0.1326],\n",
       "        [0.1174, 0.1353, 0.1246, 0.1239, 0.1183, 0.1214, 0.1414, 0.1176],\n",
       "        [0.1034, 0.1358, 0.1403, 0.1308, 0.1155, 0.1130, 0.1544, 0.1069],\n",
       "        [0.1275, 0.1272, 0.1465, 0.1057, 0.1434, 0.1230, 0.1131, 0.1136],\n",
       "        [0.1385, 0.0954, 0.1155, 0.1325, 0.1201, 0.1439, 0.1462, 0.1078],\n",
       "        [0.1083, 0.1487, 0.1356, 0.1470, 0.1087, 0.1131, 0.1010, 0.1375],\n",
       "        [0.1073, 0.1223, 0.1275, 0.1353, 0.1222, 0.1377, 0.0971, 0.1506],\n",
       "        [0.1263, 0.0981, 0.1334, 0.1482, 0.1018, 0.1228, 0.1353, 0.1342],\n",
       "        [0.1177, 0.1036, 0.1097, 0.1488, 0.1220, 0.1089, 0.1638, 0.1254]],\n",
       "       grad_fn=<SoftmaxBackward0>)"
      ]
     },
     "execution_count": 29,
     "metadata": {},
     "output_type": "execute_result"
    }
   ],
   "source": [
    "net(a['panels'])"
   ]
  },
  {
   "cell_type": "code",
   "execution_count": 37,
   "id": "47a8b1b7-27af-4094-bb7e-75a3f250c67b",
   "metadata": {},
   "outputs": [
    {
     "data": {
      "text/html": [
       "<div>\n",
       "<style scoped>\n",
       "    .dataframe tbody tr th:only-of-type {\n",
       "        vertical-align: middle;\n",
       "    }\n",
       "\n",
       "    .dataframe tbody tr th {\n",
       "        vertical-align: top;\n",
       "    }\n",
       "\n",
       "    .dataframe thead th {\n",
       "        text-align: right;\n",
       "    }\n",
       "</style>\n",
       "<table border=\"1\" class=\"dataframe\">\n",
       "  <thead>\n",
       "    <tr style=\"text-align: right;\">\n",
       "      <th></th>\n",
       "      <th>a</th>\n",
       "      <th>b</th>\n",
       "    </tr>\n",
       "  </thead>\n",
       "  <tbody>\n",
       "    <tr>\n",
       "      <th>0</th>\n",
       "      <td>15</td>\n",
       "      <td>-3</td>\n",
       "    </tr>\n",
       "    <tr>\n",
       "      <th>1</th>\n",
       "      <td>-2</td>\n",
       "      <td>-4</td>\n",
       "    </tr>\n",
       "  </tbody>\n",
       "</table>\n",
       "</div>"
      ],
      "text/plain": [
       "    a  b\n",
       "0  15 -3\n",
       "1  -2 -4"
      ]
     },
     "execution_count": 37,
     "metadata": {},
     "output_type": "execute_result"
    }
   ],
   "source": [
    "pd.DataFrame({'a': [-1, -2], 'b': [-3, -4]}).replace({-1: 15})"
   ]
  },
  {
   "cell_type": "code",
   "execution_count": null,
   "id": "37d8a067-5366-43ae-b76d-8c39fc5d631e",
   "metadata": {},
   "outputs": [],
   "source": []
  }
 ],
 "metadata": {
  "kernelspec": {
   "display_name": "Python 3 (ipykernel)",
   "language": "python",
   "name": "python3"
  },
  "language_info": {
   "codemirror_mode": {
    "name": "ipython",
    "version": 3
   },
   "file_extension": ".py",
   "mimetype": "text/x-python",
   "name": "python",
   "nbconvert_exporter": "python",
   "pygments_lexer": "ipython3",
   "version": "3.10.11"
  }
 },
 "nbformat": 4,
 "nbformat_minor": 5
}
